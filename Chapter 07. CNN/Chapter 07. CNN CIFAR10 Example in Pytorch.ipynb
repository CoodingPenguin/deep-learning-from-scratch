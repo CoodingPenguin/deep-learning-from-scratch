{
 "cells": [
  {
   "cell_type": "markdown",
   "metadata": {
    "colab_type": "text",
    "id": "jAKT6yFtTTlo"
   },
   "source": [
    "# Chapter 07. CNN CIFAR10 Example in Pytorch"
   ]
  },
  {
   "cell_type": "code",
   "execution_count": 0,
   "metadata": {
    "colab": {},
    "colab_type": "code",
    "id": "-4DurQhETTls"
   },
   "outputs": [],
   "source": [
    "import numpy as np\n",
    "import torch\n",
    "import torch.nn as nn\n",
    "import torch.optim as optim\n",
    "import torch.nn.init as init\n",
    "import torchvision.datasets as dset\n",
    "import torchvision.transforms as transforms\n",
    "from torch.utils.data import DataLoader\n",
    "from torch.autograd import Variable"
   ]
  },
  {
   "cell_type": "markdown",
   "metadata": {
    "colab_type": "text",
    "id": "StzD6yuJTTlv"
   },
   "source": [
    "## 1. 하이퍼파라미터 설정"
   ]
  },
  {
   "cell_type": "code",
   "execution_count": 0,
   "metadata": {
    "colab": {},
    "colab_type": "code",
    "id": "foJJSHOdTTlw"
   },
   "outputs": [],
   "source": [
    "batch_size = 256             # 배치 크기\n",
    "learning_rate = 0.0002       # 학습률\n",
    "num_epoch = 50               # epoch"
   ]
  },
  {
   "cell_type": "markdown",
   "metadata": {
    "colab_type": "text",
    "id": "AtlHd0IRTTlz"
   },
   "source": [
    "## 2. 입력 데이터\n",
    "### 2.1. 데이터 로드"
   ]
  },
  {
   "cell_type": "code",
   "execution_count": 16,
   "metadata": {
    "colab": {
     "base_uri": "https://localhost:8080/",
     "height": 52
    },
    "colab_type": "code",
    "executionInfo": {
     "elapsed": 3344,
     "status": "ok",
     "timestamp": 1576332519309,
     "user": {
      "displayName": "박소현",
      "photoUrl": "",
      "userId": "04890095664734078752"
     },
     "user_tz": -540
    },
    "id": "i43dwHbmTTl0",
    "outputId": "0f73374b-a52b-47ec-ddff-1cbbc25247cf",
    "scrolled": true
   },
   "outputs": [
    {
     "name": "stdout",
     "output_type": "stream",
     "text": [
      "Files already downloaded and verified\n",
      "Files already downloaded and verified\n"
     ]
    }
   ],
   "source": [
    "cifar_train = dset.CIFAR10(\"./\", train=True, transform=transforms.ToTensor(), target_transform=None, download=True)\n",
    "cifar_test = dset.CIFAR10(\"./\", train=False, transform=transforms.ToTensor(), target_transform=None, download=True)"
   ]
  },
  {
   "cell_type": "markdown",
   "metadata": {
    "colab_type": "text",
    "id": "iN_hW6-zTTl3"
   },
   "source": [
    "### 2.2. 데이터 확인"
   ]
  },
  {
   "cell_type": "code",
   "execution_count": 17,
   "metadata": {
    "colab": {
     "base_uri": "https://localhost:8080/",
     "height": 52
    },
    "colab_type": "code",
    "executionInfo": {
     "elapsed": 3328,
     "status": "ok",
     "timestamp": 1576332519315,
     "user": {
      "displayName": "박소현",
      "photoUrl": "",
      "userId": "04890095664734078752"
     },
     "user_tz": -540
    },
    "id": "t6r1zJpSTTl4",
    "outputId": "04ad698d-b8d0-4ba1-d76f-6c878d258ca2",
    "scrolled": false
   },
   "outputs": [
    {
     "name": "stdout",
     "output_type": "stream",
     "text": [
      "(학습 데이터의 이미지 크기, 학습 데이터의 개수) : torch.Size([3, 32, 32]) 6 50000\n",
      "(시험 데이터의 이미지 크기, 시험 데이터의 개수) : torch.Size([3, 32, 32]) 3 10000\n"
     ]
    }
   ],
   "source": [
    "print('(학습 데이터의 이미지 크기, 학습 데이터의 개수) :', cifar_train.__getitem__(0)[0].size(), cifar_train.__getitem__(0)[1], cifar_train.__len__())\n",
    "print('(시험 데이터의 이미지 크기, 시험 데이터의 개수) :',cifar_test.__getitem__(0)[0].size(), cifar_test.__getitem__(0)[1], cifar_test.__len__())"
   ]
  },
  {
   "cell_type": "code",
   "execution_count": 0,
   "metadata": {
    "colab": {},
    "colab_type": "code",
    "id": "OatUEEA1rw8_"
   },
   "outputs": [],
   "source": [
    "# 클래스 라벨\n",
    "classes = ('plane', 'car', 'bird', 'cat', 'deer', 'dog', 'frog', 'horse', 'ship', 'truck')"
   ]
  },
  {
   "cell_type": "code",
   "execution_count": 19,
   "metadata": {
    "colab": {
     "base_uri": "https://localhost:8080/",
     "height": 1000
    },
    "colab_type": "code",
    "executionInfo": {
     "elapsed": 4675,
     "status": "ok",
     "timestamp": 1576332520712,
     "user": {
      "displayName": "박소현",
      "photoUrl": "",
      "userId": "04890095664734078752"
     },
     "user_tz": -540
    },
    "id": "V1y5svD-vNhf",
    "outputId": "900b6ecd-6bef-4fec-833d-21f78ebe1ef2"
   },
   "outputs": [
    {
     "data": {
      "image/png": "[encoded data removed]",
      "text/plain": [
       "<Figure size 432x288 with 1 Axes>"
      ]
     },
     "metadata": {
      "tags": []
     },
     "output_type": "display_data"
    },
    {
     "data": {
      "image/png": "[encoded data removed]",
      "text/plain": [
       "<Figure size 432x288 with 1 Axes>"
      ]
     },
     "metadata": {
      "tags": []
     },
     "output_type": "display_data"
    },
    {
     "data": {
      "image/png": "[encoded data removed]",
      "text/plain": [
       "<Figure size 432x288 with 1 Axes>"
      ]
     },
     "metadata": {
      "tags": []
     },
     "output_type": "display_data"
    },
    {
     "data": {
      "image/png": "[encoded data removed]",
      "text/plain": [
       "<Figure size 432x288 with 1 Axes>"
      ]
     },
     "metadata": {
      "tags": []
     },
     "output_type": "display_data"
    },
    {
     "data": {
      "image/png": "[encoded data removed]",
      "text/plain": [
       "<Figure size 432x288 with 1 Axes>"
      ]
     },
     "metadata": {
      "tags": []
     },
     "output_type": "display_data"
    }
   ],
   "source": [
    "import matplotlib.pyplot as plt\n",
    "%matplotlib inline\n",
    "\n",
    "# 상위 5개의 데이터 출력\n",
    "for i in range(5):\n",
    "    img= cifar_train[i][0].numpy().transpose(1,2,0)\n",
    "    plt.imshow(img)\n",
    "    plt.show()"
   ]
  },
  {
   "cell_type": "markdown",
   "metadata": {
    "colab_type": "text",
    "id": "9domAe0fTTl6"
   },
   "source": [
    "### 2.3. 데이터로더 설정"
   ]
  },
  {
   "cell_type": "code",
   "execution_count": 0,
   "metadata": {
    "colab": {},
    "colab_type": "code",
    "id": "5FugA4AWTTl7"
   },
   "outputs": [],
   "source": [
    "train_loader = torch.utils.data.DataLoader(cifar_train,batch_size=batch_size, shuffle=True,num_workers=2,drop_last=True)\n",
    "test_loader = torch.utils.data.DataLoader(cifar_test,batch_size=batch_size, shuffle=False,num_workers=2,drop_last=True)"
   ]
  },
  {
   "cell_type": "markdown",
   "metadata": {
    "colab_type": "text",
    "id": "Zz7K8jYpTTl9"
   },
   "source": [
    "## 3. 신경망 모델 정의"
   ]
  },
  {
   "cell_type": "code",
   "execution_count": 0,
   "metadata": {
    "colab": {},
    "colab_type": "code",
    "id": "uHk9TZIVTTl-"
   },
   "outputs": [],
   "source": [
    "class CNN(nn.Module):\n",
    "    def __init__(self):\n",
    "        super(CNN,self).__init__()\n",
    "        self.layer = nn.Sequential(\n",
    "            nn.Conv2d(3,16,3,padding=1),\n",
    "            nn.ReLU(),\n",
    "            nn.Conv2d(16,32,3,padding=1),\n",
    "            nn.ReLU(),\n",
    "            nn.MaxPool2d(2,2), # 32 x 16 x 16\n",
    "            \n",
    "            nn.Conv2d(32,64,3,padding=1),\n",
    "            nn.ReLU(),\n",
    "            nn.Conv2d(64,128,3,padding=1),\n",
    "            nn.ReLU(),\n",
    "            nn.MaxPool2d(2,2), # 128 x 8 x 8\n",
    "            \n",
    "            nn.Conv2d(128,256,3,padding=1),\n",
    "            nn.ReLU(),\n",
    "            nn.Conv2d(256,256,3,padding=1),\n",
    "            nn.ReLU(),\n",
    "            nn.MaxPool2d(2,2)  # 256 x 4 x 4\n",
    "        )\n",
    "        \n",
    "        # 마지막 Layer\n",
    "        self.fc_layer = nn.Sequential(\n",
    "            nn.Linear(256*4*4,200),\n",
    "            nn.ReLU(),\n",
    "            nn.Linear(200,10)\n",
    "        )       \n",
    "        \n",
    "    def forward(self,x):\n",
    "        out = self.layer(x)\n",
    "        out = out.view(batch_size,-1)\n",
    "        out = self.fc_layer(out)\n",
    "\n",
    "        return out"
   ]
  },
  {
   "cell_type": "code",
   "execution_count": 0,
   "metadata": {
    "colab": {},
    "colab_type": "code",
    "id": "BEw2ANBJrw-a"
   },
   "outputs": [],
   "source": [
    "model = CNN().cuda()"
   ]
  },
  {
   "cell_type": "markdown",
   "metadata": {
    "colab_type": "text",
    "id": "RWCG78EHTTmA"
   },
   "source": [
    "### 4. 손실 함수와 경사하강법(Optimizer) 객체 생성"
   ]
  },
  {
   "cell_type": "code",
   "execution_count": 0,
   "metadata": {
    "colab": {},
    "colab_type": "code",
    "id": "e52pVmb2TTmB"
   },
   "outputs": [],
   "source": [
    "loss_func = nn.CrossEntropyLoss()\n",
    "optimizer = torch.optim.Adam(model.parameters(), lr=learning_rate)"
   ]
  },
  {
   "cell_type": "markdown",
   "metadata": {
    "colab_type": "text",
    "id": "PVgxB3i-TTmG"
   },
   "source": [
    "## 5. 학습"
   ]
  },
  {
   "cell_type": "code",
   "execution_count": 24,
   "metadata": {
    "colab": {
     "base_uri": "https://localhost:8080/",
     "height": 1000
    },
    "colab_type": "code",
    "executionInfo": {
     "elapsed": 393873,
     "status": "ok",
     "timestamp": 1576332910045,
     "user": {
      "displayName": "박소현",
      "photoUrl": "",
      "userId": "04890095664734078752"
     },
     "user_tz": -540
    },
    "id": "-MKNt0EpTTmH",
    "outputId": "2d134133-1cdb-45ca-bb11-edd5b62ea910"
   },
   "outputs": [
    {
     "name": "stdout",
     "output_type": "stream",
     "text": [
      "============================== Start ==============================\n",
      "[epoch] : 0 | [iter] : 0 | [loss] : tensor(2.3066, device='cuda:0')\n",
      "[epoch] : 0 | [iter] : 100 | [loss] : tensor(2.0111, device='cuda:0')\n",
      "[epoch] : 1 | [iter] : 0 | [loss] : tensor(1.7143, device='cuda:0')\n",
      "[epoch] : 1 | [iter] : 100 | [loss] : tensor(1.6408, device='cuda:0')\n",
      "[epoch] : 2 | [iter] : 0 | [loss] : tensor(1.6051, device='cuda:0')\n",
      "[epoch] : 2 | [iter] : 100 | [loss] : tensor(1.4205, device='cuda:0')\n",
      "[epoch] : 3 | [iter] : 0 | [loss] : tensor(1.3846, device='cuda:0')\n",
      "[epoch] : 3 | [iter] : 100 | [loss] : tensor(1.3724, device='cuda:0')\n",
      "[epoch] : 4 | [iter] : 0 | [loss] : tensor(1.3664, device='cuda:0')\n",
      "[epoch] : 4 | [iter] : 100 | [loss] : tensor(1.2613, device='cuda:0')\n",
      "[epoch] : 5 | [iter] : 0 | [loss] : tensor(1.1655, device='cuda:0')\n",
      "[epoch] : 5 | [iter] : 100 | [loss] : tensor(1.2412, device='cuda:0')\n",
      "[epoch] : 6 | [iter] : 0 | [loss] : tensor(1.2572, device='cuda:0')\n",
      "[epoch] : 6 | [iter] : 100 | [loss] : tensor(1.1134, device='cuda:0')\n",
      "[epoch] : 7 | [iter] : 0 | [loss] : tensor(1.0263, device='cuda:0')\n",
      "[epoch] : 7 | [iter] : 100 | [loss] : tensor(1.1011, device='cuda:0')\n",
      "[epoch] : 8 | [iter] : 0 | [loss] : tensor(1.0582, device='cuda:0')\n",
      "[epoch] : 8 | [iter] : 100 | [loss] : tensor(1.0214, device='cuda:0')\n",
      "[epoch] : 9 | [iter] : 0 | [loss] : tensor(0.9323, device='cuda:0')\n",
      "[epoch] : 9 | [iter] : 100 | [loss] : tensor(0.9368, device='cuda:0')\n",
      "[epoch] : 10 | [iter] : 0 | [loss] : tensor(0.8990, device='cuda:0')\n",
      "[epoch] : 10 | [iter] : 100 | [loss] : tensor(0.9122, device='cuda:0')\n",
      "[epoch] : 11 | [iter] : 0 | [loss] : tensor(0.8793, device='cuda:0')\n",
      "[epoch] : 11 | [iter] : 100 | [loss] : tensor(0.7756, device='cuda:0')\n",
      "[epoch] : 12 | [iter] : 0 | [loss] : tensor(0.9016, device='cuda:0')\n",
      "[epoch] : 12 | [iter] : 100 | [loss] : tensor(0.9569, device='cuda:0')\n",
      "[epoch] : 13 | [iter] : 0 | [loss] : tensor(0.7184, device='cuda:0')\n",
      "[epoch] : 13 | [iter] : 100 | [loss] : tensor(0.7782, device='cuda:0')\n",
      "[epoch] : 14 | [iter] : 0 | [loss] : tensor(0.7420, device='cuda:0')\n",
      "[epoch] : 14 | [iter] : 100 | [loss] : tensor(0.7504, device='cuda:0')\n",
      "[epoch] : 15 | [iter] : 0 | [loss] : tensor(0.7374, device='cuda:0')\n",
      "[epoch] : 15 | [iter] : 100 | [loss] : tensor(0.8843, device='cuda:0')\n",
      "[epoch] : 16 | [iter] : 0 | [loss] : tensor(0.6150, device='cuda:0')\n",
      "[epoch] : 16 | [iter] : 100 | [loss] : tensor(0.7685, device='cuda:0')\n",
      "[epoch] : 17 | [iter] : 0 | [loss] : tensor(0.6575, device='cuda:0')\n",
      "[epoch] : 17 | [iter] : 100 | [loss] : tensor(0.6606, device='cuda:0')\n",
      "[epoch] : 18 | [iter] : 0 | [loss] : tensor(0.5091, device='cuda:0')\n",
      "[epoch] : 18 | [iter] : 100 | [loss] : tensor(0.5615, device='cuda:0')\n",
      "[epoch] : 19 | [iter] : 0 | [loss] : tensor(0.5743, device='cuda:0')\n",
      "[epoch] : 19 | [iter] : 100 | [loss] : tensor(0.5253, device='cuda:0')\n",
      "[epoch] : 20 | [iter] : 0 | [loss] : tensor(0.5407, device='cuda:0')\n",
      "[epoch] : 20 | [iter] : 100 | [loss] : tensor(0.4852, device='cuda:0')\n",
      "[epoch] : 21 | [iter] : 0 | [loss] : tensor(0.5691, device='cuda:0')\n",
      "[epoch] : 21 | [iter] : 100 | [loss] : tensor(0.5375, device='cuda:0')\n",
      "[epoch] : 22 | [iter] : 0 | [loss] : tensor(0.5626, device='cuda:0')\n",
      "[epoch] : 22 | [iter] : 100 | [loss] : tensor(0.4628, device='cuda:0')\n",
      "[epoch] : 23 | [iter] : 0 | [loss] : tensor(0.4837, device='cuda:0')\n",
      "[epoch] : 23 | [iter] : 100 | [loss] : tensor(0.3611, device='cuda:0')\n",
      "[epoch] : 24 | [iter] : 0 | [loss] : tensor(0.3425, device='cuda:0')\n",
      "[epoch] : 24 | [iter] : 100 | [loss] : tensor(0.3984, device='cuda:0')\n",
      "[epoch] : 25 | [iter] : 0 | [loss] : tensor(0.3841, device='cuda:0')\n",
      "[epoch] : 25 | [iter] : 100 | [loss] : tensor(0.3717, device='cuda:0')\n",
      "[epoch] : 26 | [iter] : 0 | [loss] : tensor(0.2380, device='cuda:0')\n",
      "[epoch] : 26 | [iter] : 100 | [loss] : tensor(0.3245, device='cuda:0')\n",
      "[epoch] : 27 | [iter] : 0 | [loss] : tensor(0.2966, device='cuda:0')\n",
      "[epoch] : 27 | [iter] : 100 | [loss] : tensor(0.3603, device='cuda:0')\n",
      "[epoch] : 28 | [iter] : 0 | [loss] : tensor(0.2331, device='cuda:0')\n",
      "[epoch] : 28 | [iter] : 100 | [loss] : tensor(0.2567, device='cuda:0')\n",
      "[epoch] : 29 | [iter] : 0 | [loss] : tensor(0.2737, device='cuda:0')\n",
      "[epoch] : 29 | [iter] : 100 | [loss] : tensor(0.2410, device='cuda:0')\n",
      "[epoch] : 30 | [iter] : 0 | [loss] : tensor(0.1887, device='cuda:0')\n",
      "[epoch] : 30 | [iter] : 100 | [loss] : tensor(0.1886, device='cuda:0')\n",
      "[epoch] : 31 | [iter] : 0 | [loss] : tensor(0.1837, device='cuda:0')\n",
      "[epoch] : 31 | [iter] : 100 | [loss] : tensor(0.1499, device='cuda:0')\n",
      "[epoch] : 32 | [iter] : 0 | [loss] : tensor(0.1634, device='cuda:0')\n",
      "[epoch] : 32 | [iter] : 100 | [loss] : tensor(0.1158, device='cuda:0')\n",
      "[epoch] : 33 | [iter] : 0 | [loss] : tensor(0.1010, device='cuda:0')\n",
      "[epoch] : 33 | [iter] : 100 | [loss] : tensor(0.1318, device='cuda:0')\n",
      "[epoch] : 34 | [iter] : 0 | [loss] : tensor(0.0781, device='cuda:0')\n",
      "[epoch] : 34 | [iter] : 100 | [loss] : tensor(0.0942, device='cuda:0')\n",
      "[epoch] : 35 | [iter] : 0 | [loss] : tensor(0.1318, device='cuda:0')\n",
      "[epoch] : 35 | [iter] : 100 | [loss] : tensor(0.0687, device='cuda:0')\n",
      "[epoch] : 36 | [iter] : 0 | [loss] : tensor(0.0416, device='cuda:0')\n",
      "[epoch] : 36 | [iter] : 100 | [loss] : tensor(0.0693, device='cuda:0')\n",
      "[epoch] : 37 | [iter] : 0 | [loss] : tensor(0.0402, device='cuda:0')\n",
      "[epoch] : 37 | [iter] : 100 | [loss] : tensor(0.0823, device='cuda:0')\n",
      "[epoch] : 38 | [iter] : 0 | [loss] : tensor(0.0395, device='cuda:0')\n",
      "[epoch] : 38 | [iter] : 100 | [loss] : tensor(0.0804, device='cuda:0')\n",
      "[epoch] : 39 | [iter] : 0 | [loss] : tensor(0.0490, device='cuda:0')\n",
      "[epoch] : 39 | [iter] : 100 | [loss] : tensor(0.0433, device='cuda:0')\n",
      "[epoch] : 40 | [iter] : 0 | [loss] : tensor(0.0171, device='cuda:0')\n",
      "[epoch] : 40 | [iter] : 100 | [loss] : tensor(0.0179, device='cuda:0')\n",
      "[epoch] : 41 | [iter] : 0 | [loss] : tensor(0.0286, device='cuda:0')\n",
      "[epoch] : 41 | [iter] : 100 | [loss] : tensor(0.0603, device='cuda:0')\n",
      "[epoch] : 42 | [iter] : 0 | [loss] : tensor(0.0659, device='cuda:0')\n",
      "[epoch] : 42 | [iter] : 100 | [loss] : tensor(0.0421, device='cuda:0')\n",
      "[epoch] : 43 | [iter] : 0 | [loss] : tensor(0.0271, device='cuda:0')\n",
      "[epoch] : 43 | [iter] : 100 | [loss] : tensor(0.0260, device='cuda:0')\n",
      "[epoch] : 44 | [iter] : 0 | [loss] : tensor(0.0162, device='cuda:0')\n",
      "[epoch] : 44 | [iter] : 100 | [loss] : tensor(0.0114, device='cuda:0')\n",
      "[epoch] : 45 | [iter] : 0 | [loss] : tensor(0.0230, device='cuda:0')\n",
      "[epoch] : 45 | [iter] : 100 | [loss] : tensor(0.1518, device='cuda:0')\n",
      "[epoch] : 46 | [iter] : 0 | [loss] : tensor(0.0429, device='cuda:0')\n",
      "[epoch] : 46 | [iter] : 100 | [loss] : tensor(0.0274, device='cuda:0')\n",
      "[epoch] : 47 | [iter] : 0 | [loss] : tensor(0.0185, device='cuda:0')\n",
      "[epoch] : 47 | [iter] : 100 | [loss] : tensor(0.0109, device='cuda:0')\n",
      "[epoch] : 48 | [iter] : 0 | [loss] : tensor(0.0127, device='cuda:0')\n",
      "[epoch] : 48 | [iter] : 100 | [loss] : tensor(0.0364, device='cuda:0')\n",
      "[epoch] : 49 | [iter] : 0 | [loss] : tensor(0.0472, device='cuda:0')\n",
      "[epoch] : 49 | [iter] : 100 | [loss] : tensor(0.1853, device='cuda:0')\n",
      "============================== End ==============================\n"
     ]
    }
   ],
   "source": [
    "print('='*30, 'Start', '='*30)\n",
    "\n",
    "for i in range(num_epoch):\n",
    "    for j,[image,label] in enumerate(train_loader):\n",
    "        x = Variable(image).cuda()\n",
    "        y_= Variable(label).cuda()\n",
    "        \n",
    "        optimizer.zero_grad()\n",
    "        output = model.forward(x)\n",
    "        loss = loss_func(output,y_)\n",
    "        loss.backward()\n",
    "        optimizer.step()\n",
    "        \n",
    "        if j % 100 == 0:\n",
    "            print('[epoch] :', i, '| [iter] :', j, '| [loss] :', loss.data)\n",
    "        \n",
    "print('='*30, 'End', '='*30)"
   ]
  },
  {
   "cell_type": "code",
   "execution_count": 25,
   "metadata": {
    "colab": {
     "base_uri": "https://localhost:8080/",
     "height": 390
    },
    "colab_type": "code",
    "executionInfo": {
     "elapsed": 393863,
     "status": "ok",
     "timestamp": 1576332910072,
     "user": {
      "displayName": "박소현",
      "photoUrl": "",
      "userId": "04890095664734078752"
     },
     "user_tz": -540
    },
    "id": "aLGP3b0wTTmJ",
    "outputId": "ca3a4d41-a429-4418-dae4-29afd86fd328"
   },
   "outputs": [
    {
     "name": "stdout",
     "output_type": "stream",
     "text": [
      "[Sequential(\n",
      "  (0): Conv2d(3, 16, kernel_size=(3, 3), stride=(1, 1), padding=(1, 1))\n",
      "  (1): ReLU()\n",
      "  (2): Conv2d(16, 32, kernel_size=(3, 3), stride=(1, 1), padding=(1, 1))\n",
      "  (3): ReLU()\n",
      "  (4): MaxPool2d(kernel_size=2, stride=2, padding=0, dilation=1, ceil_mode=False)\n",
      "  (5): Conv2d(32, 64, kernel_size=(3, 3), stride=(1, 1), padding=(1, 1))\n",
      "  (6): ReLU()\n",
      "  (7): Conv2d(64, 128, kernel_size=(3, 3), stride=(1, 1), padding=(1, 1))\n",
      "  (8): ReLU()\n",
      "  (9): MaxPool2d(kernel_size=2, stride=2, padding=0, dilation=1, ceil_mode=False)\n",
      "  (10): Conv2d(128, 256, kernel_size=(3, 3), stride=(1, 1), padding=(1, 1))\n",
      "  (11): ReLU()\n",
      "  (12): Conv2d(256, 256, kernel_size=(3, 3), stride=(1, 1), padding=(1, 1))\n",
      "  (13): ReLU()\n",
      "  (14): MaxPool2d(kernel_size=2, stride=2, padding=0, dilation=1, ceil_mode=False)\n",
      "), Sequential(\n",
      "  (0): Linear(in_features=4096, out_features=200, bias=True)\n",
      "  (1): ReLU()\n",
      "  (2): Linear(in_features=200, out_features=10, bias=True)\n",
      ")]\n"
     ]
    }
   ],
   "source": [
    "param_list = list(model.children())\n",
    "print(param_list)"
   ]
  },
  {
   "cell_type": "markdown",
   "metadata": {
    "colab_type": "text",
    "id": "z0U2Lx4lTTmL"
   },
   "source": [
    "## 6. 모델 성능 평가"
   ]
  },
  {
   "cell_type": "code",
   "execution_count": 26,
   "metadata": {
    "colab": {
     "base_uri": "https://localhost:8080/",
     "height": 35
    },
    "colab_type": "code",
    "executionInfo": {
     "elapsed": 395147,
     "status": "ok",
     "timestamp": 1576332911388,
     "user": {
      "displayName": "박소현",
      "photoUrl": "",
      "userId": "04890095664734078752"
     },
     "user_tz": -540
    },
    "id": "Y_x3ZCr0TTmM",
    "outputId": "3ce19176-13c5-4245-ada4-97a6f8ba96e5"
   },
   "outputs": [
    {
     "name": "stdout",
     "output_type": "stream",
     "text": [
      "Accuracy of Test Data: 69.89183044433594\n"
     ]
    }
   ],
   "source": [
    "correct = 0\n",
    "total = 0\n",
    "\n",
    "for image,label in test_loader:\n",
    "    x = Variable(image).cuda()\n",
    "    y_= Variable(label).cuda()\n",
    "\n",
    "    output = model.forward(x)\n",
    "    _,output_index = torch.max(output,1)\n",
    "        \n",
    "    total += label.size(0)\n",
    "    correct += (output_index == y_).sum().float()\n",
    "    \n",
    "print(\"Accuracy of Test Data: {}\".format(100*correct/total))"
   ]
  }
 ],
 "metadata": {
  "accelerator": "GPU",
  "colab": {
   "collapsed_sections": [],
   "name": "Chapter 08. CNN CIFAR10 Example.ipynb",
   "provenance": []
  },
  "kernelspec": {
   "display_name": "Python 3",
   "language": "python",
   "name": "python3"
  },
  "language_info": {
   "codemirror_mode": {
    "name": "ipython",
    "version": 3
   },
   "file_extension": ".py",
   "mimetype": "text/x-python",
   "name": "python",
   "nbconvert_exporter": "python",
   "pygments_lexer": "ipython3",
   "version": "3.7.3"
  },
  "toc": {
   "base_numbering": 1,
   "nav_menu": {},
   "number_sections": false,
   "sideBar": true,
   "skip_h1_title": false,
   "title_cell": "Table of Contents",
   "title_sidebar": "Contents",
   "toc_cell": false,
   "toc_position": {},
   "toc_section_display": true,
   "toc_window_display": false
  },
  "varInspector": {
   "cols": {
    "lenName": 16,
    "lenType": 16,
    "lenVar": 40
   },
   "kernels_config": {
    "python": {
     "delete_cmd_postfix": "",
     "delete_cmd_prefix": "del ",
     "library": "var_list.py",
     "varRefreshCmd": "print(var_dic_list())"
    },
    "r": {
     "delete_cmd_postfix": ") ",
     "delete_cmd_prefix": "rm(",
     "library": "var_list.r",
     "varRefreshCmd": "cat(var_dic_list()) "
    }
   },
   "types_to_exclude": [
    "module",
    "function",
    "builtin_function_or_method",
    "instance",
    "_Feature"
   ],
   "window_display": false
  }
 },
 "nbformat": 4,
 "nbformat_minor": 1
}
