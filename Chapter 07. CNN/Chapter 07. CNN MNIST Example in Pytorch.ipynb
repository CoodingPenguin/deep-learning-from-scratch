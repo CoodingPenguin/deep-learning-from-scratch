{
 "cells": [
  {
   "cell_type": "markdown",
   "metadata": {
    "colab_type": "text",
    "id": "MdLZr46_YZQu"
   },
   "source": [
    "# Chapter 07. CNN MNIST Example in Pytorch"
   ]
  },
  {
   "cell_type": "code",
   "execution_count": 0,
   "metadata": {
    "colab": {},
    "colab_type": "code",
    "id": "7fIKUA7yYZQx"
   },
   "outputs": [],
   "source": [
    "import numpy as np\n",
    "import torch\n",
    "import torch.nn as nn\n",
    "import torch.optim as optim\n",
    "import torch.nn.init as init\n",
    "import torchvision.datasets as dset\n",
    "import torchvision.transforms as transforms\n",
    "from torch.utils.data import DataLoader\n",
    "from torch.autograd import Variable"
   ]
  },
  {
   "cell_type": "markdown",
   "metadata": {
    "colab_type": "text",
    "id": "_qFOON7EYZQ0"
   },
   "source": [
    "## 1. 하이퍼파라미터 설정"
   ]
  },
  {
   "cell_type": "code",
   "execution_count": 0,
   "metadata": {
    "colab": {},
    "colab_type": "code",
    "id": "WdsvACvVYZQ1"
   },
   "outputs": [],
   "source": [
    "batch_size = 100          # 배치 크기\n",
    "learning_rate = 0.0002    # 학습률\n",
    "num_epoch = 50            # epoch"
   ]
  },
  {
   "cell_type": "markdown",
   "metadata": {
    "colab_type": "text",
    "id": "WA_9-dYWYZQ4"
   },
   "source": [
    "## 2. 입력 데이터\n",
    "### 2.1. 데이터 로드"
   ]
  },
  {
   "cell_type": "code",
   "execution_count": 0,
   "metadata": {
    "colab": {},
    "colab_type": "code",
    "id": "U846Ww90YZQ4"
   },
   "outputs": [],
   "source": [
    "mnist_train = dset.MNIST(\"./\", train=True, transform=transforms.ToTensor(), target_transform=None, download=True)\n",
    "mnist_test = dset.MNIST(\"./\", train=False, transform=transforms.ToTensor(), target_transform=None, download=True)"
   ]
  },
  {
   "cell_type": "markdown",
   "metadata": {
    "colab_type": "text",
    "id": "sz8IZ2QCYZQ9"
   },
   "source": [
    "### 2.2. 데이터 확인"
   ]
  },
  {
   "cell_type": "code",
   "execution_count": 4,
   "metadata": {
    "colab": {
     "base_uri": "https://localhost:8080/",
     "height": 52
    },
    "colab_type": "code",
    "executionInfo": {
     "elapsed": 1141,
     "status": "ok",
     "timestamp": 1576331958652,
     "user": {
      "displayName": "박소현",
      "photoUrl": "",
      "userId": "04890095664734078752"
     },
     "user_tz": -540
    },
    "id": "rhDXC1C5YZQ-",
    "outputId": "18b2a8a6-a816-4055-e676-f650dd549d05"
   },
   "outputs": [
    {
     "name": "stdout",
     "output_type": "stream",
     "text": [
      "(학습 데이터의 이미지 크기, 학습 데이터의 개수) : torch.Size([1, 28, 28]) , 60000\n",
      "(시험 데이터의 이미지 크기, 시험 데이터의 개수) : torch.Size([1, 28, 28]) , 10000\n"
     ]
    }
   ],
   "source": [
    "print('(학습 데이터의 이미지 크기, 학습 데이터의 개수) :', mnist_train.__getitem__(0)[0].size(), ',', mnist_train.__len__())\n",
    "print('(시험 데이터의 이미지 크기, 시험 데이터의 개수) :', mnist_test.__getitem__(0)[0].size(), ',',  mnist_test.__len__())"
   ]
  },
  {
   "cell_type": "markdown",
   "metadata": {
    "colab_type": "text",
    "id": "Wj0vHf3nYZRB"
   },
   "source": [
    "### 2.3. 데이터로더 설정\n",
    "`DataLoader`로 부터 원하는 `batch_size`만큼의 데이터를 받아올 수 있다.\n",
    "* `dataset` : 입력 데이터\n",
    "* `batch_size` : 배치 크기\n",
    "* `shuffle` : True면 매 epoch마다 데이터를 섞음\n",
    "* `num_workers` : 멀티쓰레딩을 통해 빠르게 데이터를 로드"
   ]
  },
  {
   "cell_type": "code",
   "execution_count": 0,
   "metadata": {
    "colab": {},
    "colab_type": "code",
    "id": "nXNxWotuYZRC"
   },
   "outputs": [],
   "source": [
    "train_loader = torch.utils.data.DataLoader(mnist_train, batch_size=batch_size, shuffle=True, num_workers=2,drop_last=True)\n",
    "test_loader = torch.utils.data.DataLoader(mnist_test, batch_size=batch_size, shuffle=False, num_workers=2,drop_last=True)"
   ]
  },
  {
   "cell_type": "markdown",
   "metadata": {
    "colab_type": "text",
    "id": "bRtKzlKyYZRE"
   },
   "source": [
    "## 3. 신경망 모델 정의\n",
    "### 3.1. 합성곱 계층 : Conv2d 클래스\n",
    "`CLASS torch.nn.Conv2d(in_channels, out_channels, kernel_size, stride=1, padding=0, dilation=1, groups=1, bias=True, padding_mode='zeros')`\n",
    "- input size: $(N, C_{\\text{in}}, H, W)$\n",
    "- output size: $(N, C_{\\text{out}}, H_{\\text{out}}, W_{\\text{out}})$\n",
    "- output value: \n",
    "$$ \\text{out} (N_i,C_{\\text{out}_j}) = \\text{bias} (C_{\\text{out}_j}) + \n",
    " \\sum_{k=0}^{C_{\\text{in}} - 1} \\text{weight} (C_{\\text{out}_j}, k) * \\text{input} (N_i, k)  $$\n",
    "- output shape: \n",
    "$$ H_{\\text{out}} = \\frac{H + 2P -FH}{S} + 1, \\text{where FH is filter height, P is padding, S is stride} $$\n",
    "$$ W_{\\text{out}} = \\frac{W + 2P -FW}{S} + 1, \\text{where FW is filter width, P is padding, S is stride} $$\n",
    "\n",
    "### 3.2. 풀링 계층 : MaxPool2d 클래스\n",
    "`CLASS torch.nn.MaxPool2d(kernel_size, stride=None, padding=0, dilation=1, return_indices=False, ceil_mode=False)`\n",
    "- input size: $(N, C_{\\text{in}}, H, W)$\n",
    "- output size: $(N, C_{\\text{out}}, H_{\\text{out}}, W_{\\text{out}})$\n",
    "- output shape: \n",
    "$$ H_{\\text{out}} = \\frac{H}{S}, \\text{Usually S = pooling window size} $$\n",
    "$$ W_{\\text{out}} = \\frac{W}{S}, \\text{Usually S = pooling window size} $$"
   ]
  },
  {
   "cell_type": "code",
   "execution_count": 0,
   "metadata": {
    "colab": {},
    "colab_type": "code",
    "id": "HMotdkJ6YZRF"
   },
   "outputs": [],
   "source": [
    "class CNN(nn.Module):\n",
    "    def __init__(self):\n",
    "        super(CNN,self).__init__()\n",
    "        self.layer = nn.Sequential(\n",
    "            # in_channels=1, out_channels=16, filter_size=5\n",
    "            # stride=1, padding=0, dilation=1, groups=1, bias=True, padding_mode='zeros'\n",
    "            # input shape = (batch_size, 1, 28, 28)\n",
    "            # output shape = (batch_size, 16, 24, 24)\n",
    "            nn.Conv2d(1,16,5),\n",
    "            nn.ReLU(),\n",
    "            \n",
    "            # in_channels=16, out_channels=32, filter_size=5\n",
    "            # output shape = (batch_size, 32, 20, 20)\n",
    "            nn.Conv2d(16,32,5),    \n",
    "            nn.ReLU(),\n",
    "            \n",
    "            # output shape = (batch_size, 32, 10, 10)\n",
    "            nn.MaxPool2d(2,2),\n",
    "            \n",
    "            # in_channels=32, out_channels=64, filter_size=5\n",
    "            # output shape = (batch_size, 64, 6, 6)\n",
    "            nn.Conv2d(32,64,5),    \n",
    "            nn.ReLU(),\n",
    "            \n",
    "            # output shape = (batch_size, 64, 3, 3)\n",
    "            nn.MaxPool2d(2,2)     \n",
    "        )\n",
    "        \n",
    "        # 마지막 Layer\n",
    "        self.fc_layer = nn.Sequential(\n",
    "            nn.Linear(64*3*3,100),\n",
    "            nn.ReLU(),\n",
    "            nn.Linear(100,10)\n",
    "        )       \n",
    "        \n",
    "    def forward(self,x):\n",
    "        out = self.layer(x)\n",
    "        out = out.view(batch_size,-1)\n",
    "        out = self.fc_layer(out)\n",
    "\n",
    "        return out"
   ]
  },
  {
   "cell_type": "code",
   "execution_count": 0,
   "metadata": {
    "colab": {},
    "colab_type": "code",
    "id": "OOd0C0mrYZRI"
   },
   "outputs": [],
   "source": [
    "# model = CNN()\n",
    "# GPU사용\n",
    "model = CNN().cuda()"
   ]
  },
  {
   "cell_type": "markdown",
   "metadata": {
    "colab_type": "text",
    "id": "gqxyoBIKYZRL"
   },
   "source": [
    "## 4. 손실 함수와 경사하강법(Optimizer) 객체 생성"
   ]
  },
  {
   "cell_type": "code",
   "execution_count": 0,
   "metadata": {
    "colab": {},
    "colab_type": "code",
    "id": "CASdLEa4YZRM"
   },
   "outputs": [],
   "source": [
    "loss_func = nn.CrossEntropyLoss()\n",
    "optimizer = torch.optim.SGD(model.parameters(), lr=learning_rate)"
   ]
  },
  {
   "cell_type": "markdown",
   "metadata": {
    "colab_type": "text",
    "id": "R2AWcxfwYZRO"
   },
   "source": [
    "## 5. 학습"
   ]
  },
  {
   "cell_type": "code",
   "execution_count": 9,
   "metadata": {
    "colab": {
     "base_uri": "https://localhost:8080/",
     "height": 1000
    },
    "colab_type": "code",
    "executionInfo": {
     "elapsed": 291508,
     "status": "ok",
     "timestamp": 1576332249197,
     "user": {
      "displayName": "박소현",
      "photoUrl": "",
      "userId": "04890095664734078752"
     },
     "user_tz": -540
    },
    "id": "QYfD7W3YYZRP",
    "outputId": "9df29862-055a-4bdd-eb36-f34014bd8ea0"
   },
   "outputs": [
    {
     "name": "stdout",
     "output_type": "stream",
     "text": [
      "============================== Start ==============================\n",
      "[epoch] : 0 | [iter] : 0 | [loss] : tensor(2.2995, device='cuda:0')\n",
      "[epoch] : 0 | [iter] : 100 | [loss] : tensor(2.3064, device='cuda:0')\n",
      "[epoch] : 0 | [iter] : 200 | [loss] : tensor(2.2988, device='cuda:0')\n",
      "[epoch] : 0 | [iter] : 300 | [loss] : tensor(2.3007, device='cuda:0')\n",
      "[epoch] : 0 | [iter] : 400 | [loss] : tensor(2.3028, device='cuda:0')\n",
      "[epoch] : 0 | [iter] : 500 | [loss] : tensor(2.3031, device='cuda:0')\n",
      "[epoch] : 1 | [iter] : 0 | [loss] : tensor(2.3049, device='cuda:0')\n",
      "[epoch] : 1 | [iter] : 100 | [loss] : tensor(2.3017, device='cuda:0')\n",
      "[epoch] : 1 | [iter] : 200 | [loss] : tensor(2.3084, device='cuda:0')\n",
      "[epoch] : 1 | [iter] : 300 | [loss] : tensor(2.3118, device='cuda:0')\n",
      "[epoch] : 1 | [iter] : 400 | [loss] : tensor(2.2949, device='cuda:0')\n",
      "[epoch] : 1 | [iter] : 500 | [loss] : tensor(2.3001, device='cuda:0')\n",
      "[epoch] : 2 | [iter] : 0 | [loss] : tensor(2.3103, device='cuda:0')\n",
      "[epoch] : 2 | [iter] : 100 | [loss] : tensor(2.3032, device='cuda:0')\n",
      "[epoch] : 2 | [iter] : 200 | [loss] : tensor(2.2973, device='cuda:0')\n",
      "[epoch] : 2 | [iter] : 300 | [loss] : tensor(2.3037, device='cuda:0')\n",
      "[epoch] : 2 | [iter] : 400 | [loss] : tensor(2.3002, device='cuda:0')\n",
      "[epoch] : 2 | [iter] : 500 | [loss] : tensor(2.3012, device='cuda:0')\n",
      "[epoch] : 3 | [iter] : 0 | [loss] : tensor(2.3013, device='cuda:0')\n",
      "[epoch] : 3 | [iter] : 100 | [loss] : tensor(2.2937, device='cuda:0')\n",
      "[epoch] : 3 | [iter] : 200 | [loss] : tensor(2.2955, device='cuda:0')\n",
      "[epoch] : 3 | [iter] : 300 | [loss] : tensor(2.3000, device='cuda:0')\n",
      "[epoch] : 3 | [iter] : 400 | [loss] : tensor(2.2962, device='cuda:0')\n",
      "[epoch] : 3 | [iter] : 500 | [loss] : tensor(2.3041, device='cuda:0')\n",
      "[epoch] : 4 | [iter] : 0 | [loss] : tensor(2.3016, device='cuda:0')\n",
      "[epoch] : 4 | [iter] : 100 | [loss] : tensor(2.2987, device='cuda:0')\n",
      "[epoch] : 4 | [iter] : 200 | [loss] : tensor(2.2977, device='cuda:0')\n",
      "[epoch] : 4 | [iter] : 300 | [loss] : tensor(2.3012, device='cuda:0')\n",
      "[epoch] : 4 | [iter] : 400 | [loss] : tensor(2.3002, device='cuda:0')\n",
      "[epoch] : 4 | [iter] : 500 | [loss] : tensor(2.3025, device='cuda:0')\n",
      "[epoch] : 5 | [iter] : 0 | [loss] : tensor(2.2928, device='cuda:0')\n",
      "[epoch] : 5 | [iter] : 100 | [loss] : tensor(2.3026, device='cuda:0')\n",
      "[epoch] : 5 | [iter] : 200 | [loss] : tensor(2.2983, device='cuda:0')\n",
      "[epoch] : 5 | [iter] : 300 | [loss] : tensor(2.2908, device='cuda:0')\n",
      "[epoch] : 5 | [iter] : 400 | [loss] : tensor(2.3014, device='cuda:0')\n",
      "[epoch] : 5 | [iter] : 500 | [loss] : tensor(2.2994, device='cuda:0')\n",
      "[epoch] : 6 | [iter] : 0 | [loss] : tensor(2.2967, device='cuda:0')\n",
      "[epoch] : 6 | [iter] : 100 | [loss] : tensor(2.2969, device='cuda:0')\n",
      "[epoch] : 6 | [iter] : 200 | [loss] : tensor(2.2943, device='cuda:0')\n",
      "[epoch] : 6 | [iter] : 300 | [loss] : tensor(2.3034, device='cuda:0')\n",
      "[epoch] : 6 | [iter] : 400 | [loss] : tensor(2.2887, device='cuda:0')\n",
      "[epoch] : 6 | [iter] : 500 | [loss] : tensor(2.2952, device='cuda:0')\n",
      "[epoch] : 7 | [iter] : 0 | [loss] : tensor(2.2957, device='cuda:0')\n",
      "[epoch] : 7 | [iter] : 100 | [loss] : tensor(2.2872, device='cuda:0')\n",
      "[epoch] : 7 | [iter] : 200 | [loss] : tensor(2.2969, device='cuda:0')\n",
      "[epoch] : 7 | [iter] : 300 | [loss] : tensor(2.2978, device='cuda:0')\n",
      "[epoch] : 7 | [iter] : 400 | [loss] : tensor(2.2940, device='cuda:0')\n",
      "[epoch] : 7 | [iter] : 500 | [loss] : tensor(2.2911, device='cuda:0')\n",
      "[epoch] : 8 | [iter] : 0 | [loss] : tensor(2.2979, device='cuda:0')\n",
      "[epoch] : 8 | [iter] : 100 | [loss] : tensor(2.2957, device='cuda:0')\n",
      "[epoch] : 8 | [iter] : 200 | [loss] : tensor(2.2846, device='cuda:0')\n",
      "[epoch] : 8 | [iter] : 300 | [loss] : tensor(2.2864, device='cuda:0')\n",
      "[epoch] : 8 | [iter] : 400 | [loss] : tensor(2.2892, device='cuda:0')\n",
      "[epoch] : 8 | [iter] : 500 | [loss] : tensor(2.2933, device='cuda:0')\n",
      "[epoch] : 9 | [iter] : 0 | [loss] : tensor(2.2887, device='cuda:0')\n",
      "[epoch] : 9 | [iter] : 100 | [loss] : tensor(2.2835, device='cuda:0')\n",
      "[epoch] : 9 | [iter] : 200 | [loss] : tensor(2.2972, device='cuda:0')\n",
      "[epoch] : 9 | [iter] : 300 | [loss] : tensor(2.2913, device='cuda:0')\n",
      "[epoch] : 9 | [iter] : 400 | [loss] : tensor(2.2945, device='cuda:0')\n",
      "[epoch] : 9 | [iter] : 500 | [loss] : tensor(2.2947, device='cuda:0')\n",
      "[epoch] : 10 | [iter] : 0 | [loss] : tensor(2.2883, device='cuda:0')\n",
      "[epoch] : 10 | [iter] : 100 | [loss] : tensor(2.2869, device='cuda:0')\n",
      "[epoch] : 10 | [iter] : 200 | [loss] : tensor(2.2891, device='cuda:0')\n",
      "[epoch] : 10 | [iter] : 300 | [loss] : tensor(2.2841, device='cuda:0')\n",
      "[epoch] : 10 | [iter] : 400 | [loss] : tensor(2.2882, device='cuda:0')\n",
      "[epoch] : 10 | [iter] : 500 | [loss] : tensor(2.2932, device='cuda:0')\n",
      "[epoch] : 11 | [iter] : 0 | [loss] : tensor(2.2889, device='cuda:0')\n",
      "[epoch] : 11 | [iter] : 100 | [loss] : tensor(2.2846, device='cuda:0')\n",
      "[epoch] : 11 | [iter] : 200 | [loss] : tensor(2.2925, device='cuda:0')\n",
      "[epoch] : 11 | [iter] : 300 | [loss] : tensor(2.2871, device='cuda:0')\n",
      "[epoch] : 11 | [iter] : 400 | [loss] : tensor(2.2838, device='cuda:0')\n",
      "[epoch] : 11 | [iter] : 500 | [loss] : tensor(2.2807, device='cuda:0')\n",
      "[epoch] : 12 | [iter] : 0 | [loss] : tensor(2.2874, device='cuda:0')\n",
      "[epoch] : 12 | [iter] : 100 | [loss] : tensor(2.2790, device='cuda:0')\n",
      "[epoch] : 12 | [iter] : 200 | [loss] : tensor(2.2861, device='cuda:0')\n",
      "[epoch] : 12 | [iter] : 300 | [loss] : tensor(2.2776, device='cuda:0')\n",
      "[epoch] : 12 | [iter] : 400 | [loss] : tensor(2.2731, device='cuda:0')\n",
      "[epoch] : 12 | [iter] : 500 | [loss] : tensor(2.2836, device='cuda:0')\n",
      "[epoch] : 13 | [iter] : 0 | [loss] : tensor(2.2776, device='cuda:0')\n",
      "[epoch] : 13 | [iter] : 100 | [loss] : tensor(2.2861, device='cuda:0')\n",
      "[epoch] : 13 | [iter] : 200 | [loss] : tensor(2.2787, device='cuda:0')\n",
      "[epoch] : 13 | [iter] : 300 | [loss] : tensor(2.2883, device='cuda:0')\n",
      "[epoch] : 13 | [iter] : 400 | [loss] : tensor(2.2899, device='cuda:0')\n",
      "[epoch] : 13 | [iter] : 500 | [loss] : tensor(2.2825, device='cuda:0')\n",
      "[epoch] : 14 | [iter] : 0 | [loss] : tensor(2.2777, device='cuda:0')\n",
      "[epoch] : 14 | [iter] : 100 | [loss] : tensor(2.2773, device='cuda:0')\n",
      "[epoch] : 14 | [iter] : 200 | [loss] : tensor(2.2709, device='cuda:0')\n",
      "[epoch] : 14 | [iter] : 300 | [loss] : tensor(2.2764, device='cuda:0')\n",
      "[epoch] : 14 | [iter] : 400 | [loss] : tensor(2.2894, device='cuda:0')\n",
      "[epoch] : 14 | [iter] : 500 | [loss] : tensor(2.2716, device='cuda:0')\n",
      "[epoch] : 15 | [iter] : 0 | [loss] : tensor(2.2739, device='cuda:0')\n",
      "[epoch] : 15 | [iter] : 100 | [loss] : tensor(2.2624, device='cuda:0')\n",
      "[epoch] : 15 | [iter] : 200 | [loss] : tensor(2.2817, device='cuda:0')\n",
      "[epoch] : 15 | [iter] : 300 | [loss] : tensor(2.2747, device='cuda:0')\n",
      "[epoch] : 15 | [iter] : 400 | [loss] : tensor(2.2724, device='cuda:0')\n",
      "[epoch] : 15 | [iter] : 500 | [loss] : tensor(2.2698, device='cuda:0')\n",
      "[epoch] : 16 | [iter] : 0 | [loss] : tensor(2.2739, device='cuda:0')\n",
      "[epoch] : 16 | [iter] : 100 | [loss] : tensor(2.2748, device='cuda:0')\n",
      "[epoch] : 16 | [iter] : 200 | [loss] : tensor(2.2833, device='cuda:0')\n",
      "[epoch] : 16 | [iter] : 300 | [loss] : tensor(2.2718, device='cuda:0')\n",
      "[epoch] : 16 | [iter] : 400 | [loss] : tensor(2.2788, device='cuda:0')\n",
      "[epoch] : 16 | [iter] : 500 | [loss] : tensor(2.2797, device='cuda:0')\n",
      "[epoch] : 17 | [iter] : 0 | [loss] : tensor(2.2668, device='cuda:0')\n",
      "[epoch] : 17 | [iter] : 100 | [loss] : tensor(2.2678, device='cuda:0')\n",
      "[epoch] : 17 | [iter] : 200 | [loss] : tensor(2.2645, device='cuda:0')\n",
      "[epoch] : 17 | [iter] : 300 | [loss] : tensor(2.2701, device='cuda:0')\n",
      "[epoch] : 17 | [iter] : 400 | [loss] : tensor(2.2643, device='cuda:0')\n",
      "[epoch] : 17 | [iter] : 500 | [loss] : tensor(2.2686, device='cuda:0')\n",
      "[epoch] : 18 | [iter] : 0 | [loss] : tensor(2.2642, device='cuda:0')\n",
      "[epoch] : 18 | [iter] : 100 | [loss] : tensor(2.2646, device='cuda:0')\n",
      "[epoch] : 18 | [iter] : 200 | [loss] : tensor(2.2575, device='cuda:0')\n",
      "[epoch] : 18 | [iter] : 300 | [loss] : tensor(2.2595, device='cuda:0')\n",
      "[epoch] : 18 | [iter] : 400 | [loss] : tensor(2.2645, device='cuda:0')\n",
      "[epoch] : 18 | [iter] : 500 | [loss] : tensor(2.2703, device='cuda:0')\n",
      "[epoch] : 19 | [iter] : 0 | [loss] : tensor(2.2547, device='cuda:0')\n",
      "[epoch] : 19 | [iter] : 100 | [loss] : tensor(2.2533, device='cuda:0')\n",
      "[epoch] : 19 | [iter] : 200 | [loss] : tensor(2.2560, device='cuda:0')\n",
      "[epoch] : 19 | [iter] : 300 | [loss] : tensor(2.2642, device='cuda:0')\n",
      "[epoch] : 19 | [iter] : 400 | [loss] : tensor(2.2456, device='cuda:0')\n",
      "[epoch] : 19 | [iter] : 500 | [loss] : tensor(2.2492, device='cuda:0')\n",
      "[epoch] : 20 | [iter] : 0 | [loss] : tensor(2.2386, device='cuda:0')\n",
      "[epoch] : 20 | [iter] : 100 | [loss] : tensor(2.2366, device='cuda:0')\n",
      "[epoch] : 20 | [iter] : 200 | [loss] : tensor(2.2476, device='cuda:0')\n",
      "[epoch] : 20 | [iter] : 300 | [loss] : tensor(2.2428, device='cuda:0')\n",
      "[epoch] : 20 | [iter] : 400 | [loss] : tensor(2.2448, device='cuda:0')\n",
      "[epoch] : 20 | [iter] : 500 | [loss] : tensor(2.2278, device='cuda:0')\n",
      "[epoch] : 21 | [iter] : 0 | [loss] : tensor(2.2368, device='cuda:0')\n",
      "[epoch] : 21 | [iter] : 100 | [loss] : tensor(2.2350, device='cuda:0')\n",
      "[epoch] : 21 | [iter] : 200 | [loss] : tensor(2.2366, device='cuda:0')\n",
      "[epoch] : 21 | [iter] : 300 | [loss] : tensor(2.2416, device='cuda:0')\n",
      "[epoch] : 21 | [iter] : 400 | [loss] : tensor(2.2252, device='cuda:0')\n",
      "[epoch] : 21 | [iter] : 500 | [loss] : tensor(2.2315, device='cuda:0')\n",
      "[epoch] : 22 | [iter] : 0 | [loss] : tensor(2.2321, device='cuda:0')\n",
      "[epoch] : 22 | [iter] : 100 | [loss] : tensor(2.2202, device='cuda:0')\n",
      "[epoch] : 22 | [iter] : 200 | [loss] : tensor(2.2178, device='cuda:0')\n",
      "[epoch] : 22 | [iter] : 300 | [loss] : tensor(2.2223, device='cuda:0')\n",
      "[epoch] : 22 | [iter] : 400 | [loss] : tensor(2.2069, device='cuda:0')\n",
      "[epoch] : 22 | [iter] : 500 | [loss] : tensor(2.2184, device='cuda:0')\n",
      "[epoch] : 23 | [iter] : 0 | [loss] : tensor(2.1986, device='cuda:0')\n",
      "[epoch] : 23 | [iter] : 100 | [loss] : tensor(2.1948, device='cuda:0')\n",
      "[epoch] : 23 | [iter] : 200 | [loss] : tensor(2.2142, device='cuda:0')\n",
      "[epoch] : 23 | [iter] : 300 | [loss] : tensor(2.1822, device='cuda:0')\n",
      "[epoch] : 23 | [iter] : 400 | [loss] : tensor(2.1901, device='cuda:0')\n",
      "[epoch] : 23 | [iter] : 500 | [loss] : tensor(2.1816, device='cuda:0')\n",
      "[epoch] : 24 | [iter] : 0 | [loss] : tensor(2.1657, device='cuda:0')\n",
      "[epoch] : 24 | [iter] : 100 | [loss] : tensor(2.1721, device='cuda:0')\n",
      "[epoch] : 24 | [iter] : 200 | [loss] : tensor(2.1691, device='cuda:0')\n",
      "[epoch] : 24 | [iter] : 300 | [loss] : tensor(2.1753, device='cuda:0')\n",
      "[epoch] : 24 | [iter] : 400 | [loss] : tensor(2.1500, device='cuda:0')\n",
      "[epoch] : 24 | [iter] : 500 | [loss] : tensor(2.1713, device='cuda:0')\n",
      "[epoch] : 25 | [iter] : 0 | [loss] : tensor(2.1308, device='cuda:0')\n",
      "[epoch] : 25 | [iter] : 100 | [loss] : tensor(2.1249, device='cuda:0')\n",
      "[epoch] : 25 | [iter] : 200 | [loss] : tensor(2.1411, device='cuda:0')\n",
      "[epoch] : 25 | [iter] : 300 | [loss] : tensor(2.1269, device='cuda:0')\n",
      "[epoch] : 25 | [iter] : 400 | [loss] : tensor(2.0886, device='cuda:0')\n",
      "[epoch] : 25 | [iter] : 500 | [loss] : tensor(2.1225, device='cuda:0')\n",
      "[epoch] : 26 | [iter] : 0 | [loss] : tensor(2.1162, device='cuda:0')\n",
      "[epoch] : 26 | [iter] : 100 | [loss] : tensor(2.0447, device='cuda:0')\n",
      "[epoch] : 26 | [iter] : 200 | [loss] : tensor(2.0765, device='cuda:0')\n",
      "[epoch] : 26 | [iter] : 300 | [loss] : tensor(2.0722, device='cuda:0')\n",
      "[epoch] : 26 | [iter] : 400 | [loss] : tensor(2.0686, device='cuda:0')\n",
      "[epoch] : 26 | [iter] : 500 | [loss] : tensor(2.0247, device='cuda:0')\n",
      "[epoch] : 27 | [iter] : 0 | [loss] : tensor(1.9909, device='cuda:0')\n",
      "[epoch] : 27 | [iter] : 100 | [loss] : tensor(1.9999, device='cuda:0')\n",
      "[epoch] : 27 | [iter] : 200 | [loss] : tensor(2.0561, device='cuda:0')\n",
      "[epoch] : 27 | [iter] : 300 | [loss] : tensor(1.9669, device='cuda:0')\n",
      "[epoch] : 27 | [iter] : 400 | [loss] : tensor(1.9409, device='cuda:0')\n",
      "[epoch] : 27 | [iter] : 500 | [loss] : tensor(1.9235, device='cuda:0')\n",
      "[epoch] : 28 | [iter] : 0 | [loss] : tensor(1.9714, device='cuda:0')\n",
      "[epoch] : 28 | [iter] : 100 | [loss] : tensor(1.8652, device='cuda:0')\n",
      "[epoch] : 28 | [iter] : 200 | [loss] : tensor(1.7843, device='cuda:0')\n",
      "[epoch] : 28 | [iter] : 300 | [loss] : tensor(1.8573, device='cuda:0')\n",
      "[epoch] : 28 | [iter] : 400 | [loss] : tensor(1.7856, device='cuda:0')\n",
      "[epoch] : 28 | [iter] : 500 | [loss] : tensor(1.8130, device='cuda:0')\n",
      "[epoch] : 29 | [iter] : 0 | [loss] : tensor(1.7907, device='cuda:0')\n",
      "[epoch] : 29 | [iter] : 100 | [loss] : tensor(1.7156, device='cuda:0')\n",
      "[epoch] : 29 | [iter] : 200 | [loss] : tensor(1.6659, device='cuda:0')\n",
      "[epoch] : 29 | [iter] : 300 | [loss] : tensor(1.6624, device='cuda:0')\n",
      "[epoch] : 29 | [iter] : 400 | [loss] : tensor(1.6517, device='cuda:0')\n",
      "[epoch] : 29 | [iter] : 500 | [loss] : tensor(1.5692, device='cuda:0')\n",
      "[epoch] : 30 | [iter] : 0 | [loss] : tensor(1.5868, device='cuda:0')\n",
      "[epoch] : 30 | [iter] : 100 | [loss] : tensor(1.4700, device='cuda:0')\n",
      "[epoch] : 30 | [iter] : 200 | [loss] : tensor(1.4800, device='cuda:0')\n",
      "[epoch] : 30 | [iter] : 300 | [loss] : tensor(1.3774, device='cuda:0')\n",
      "[epoch] : 30 | [iter] : 400 | [loss] : tensor(1.4161, device='cuda:0')\n",
      "[epoch] : 30 | [iter] : 500 | [loss] : tensor(1.3572, device='cuda:0')\n",
      "[epoch] : 31 | [iter] : 0 | [loss] : tensor(1.3035, device='cuda:0')\n",
      "[epoch] : 31 | [iter] : 100 | [loss] : tensor(1.2286, device='cuda:0')\n",
      "[epoch] : 31 | [iter] : 200 | [loss] : tensor(1.1867, device='cuda:0')\n",
      "[epoch] : 31 | [iter] : 300 | [loss] : tensor(1.1533, device='cuda:0')\n",
      "[epoch] : 31 | [iter] : 400 | [loss] : tensor(1.2296, device='cuda:0')\n",
      "[epoch] : 31 | [iter] : 500 | [loss] : tensor(1.1514, device='cuda:0')\n",
      "[epoch] : 32 | [iter] : 0 | [loss] : tensor(1.0886, device='cuda:0')\n",
      "[epoch] : 32 | [iter] : 100 | [loss] : tensor(1.2495, device='cuda:0')\n",
      "[epoch] : 32 | [iter] : 200 | [loss] : tensor(0.9864, device='cuda:0')\n",
      "[epoch] : 32 | [iter] : 300 | [loss] : tensor(0.9891, device='cuda:0')\n",
      "[epoch] : 32 | [iter] : 400 | [loss] : tensor(0.9574, device='cuda:0')\n",
      "[epoch] : 32 | [iter] : 500 | [loss] : tensor(0.9297, device='cuda:0')\n",
      "[epoch] : 33 | [iter] : 0 | [loss] : tensor(0.8824, device='cuda:0')\n",
      "[epoch] : 33 | [iter] : 100 | [loss] : tensor(0.8695, device='cuda:0')\n",
      "[epoch] : 33 | [iter] : 200 | [loss] : tensor(0.9823, device='cuda:0')\n",
      "[epoch] : 33 | [iter] : 300 | [loss] : tensor(0.8747, device='cuda:0')\n",
      "[epoch] : 33 | [iter] : 400 | [loss] : tensor(0.8387, device='cuda:0')\n",
      "[epoch] : 33 | [iter] : 500 | [loss] : tensor(0.8481, device='cuda:0')\n",
      "[epoch] : 34 | [iter] : 0 | [loss] : tensor(0.8271, device='cuda:0')\n",
      "[epoch] : 34 | [iter] : 100 | [loss] : tensor(0.6858, device='cuda:0')\n",
      "[epoch] : 34 | [iter] : 200 | [loss] : tensor(0.6385, device='cuda:0')\n",
      "[epoch] : 34 | [iter] : 300 | [loss] : tensor(0.9311, device='cuda:0')\n",
      "[epoch] : 34 | [iter] : 400 | [loss] : tensor(0.8348, device='cuda:0')\n",
      "[epoch] : 34 | [iter] : 500 | [loss] : tensor(0.8116, device='cuda:0')\n",
      "[epoch] : 35 | [iter] : 0 | [loss] : tensor(0.8099, device='cuda:0')\n",
      "[epoch] : 35 | [iter] : 100 | [loss] : tensor(0.7072, device='cuda:0')\n",
      "[epoch] : 35 | [iter] : 200 | [loss] : tensor(0.7294, device='cuda:0')\n",
      "[epoch] : 35 | [iter] : 300 | [loss] : tensor(0.6865, device='cuda:0')\n",
      "[epoch] : 35 | [iter] : 400 | [loss] : tensor(0.5672, device='cuda:0')\n",
      "[epoch] : 35 | [iter] : 500 | [loss] : tensor(0.6883, device='cuda:0')\n",
      "[epoch] : 36 | [iter] : 0 | [loss] : tensor(0.6983, device='cuda:0')\n",
      "[epoch] : 36 | [iter] : 100 | [loss] : tensor(0.5619, device='cuda:0')\n",
      "[epoch] : 36 | [iter] : 200 | [loss] : tensor(0.5510, device='cuda:0')\n",
      "[epoch] : 36 | [iter] : 300 | [loss] : tensor(0.5553, device='cuda:0')\n",
      "[epoch] : 36 | [iter] : 400 | [loss] : tensor(0.5544, device='cuda:0')\n",
      "[epoch] : 36 | [iter] : 500 | [loss] : tensor(0.5057, device='cuda:0')\n",
      "[epoch] : 37 | [iter] : 0 | [loss] : tensor(0.5833, device='cuda:0')\n",
      "[epoch] : 37 | [iter] : 100 | [loss] : tensor(0.4788, device='cuda:0')\n",
      "[epoch] : 37 | [iter] : 200 | [loss] : tensor(0.5763, device='cuda:0')\n",
      "[epoch] : 37 | [iter] : 300 | [loss] : tensor(0.5932, device='cuda:0')\n",
      "[epoch] : 37 | [iter] : 400 | [loss] : tensor(0.6258, device='cuda:0')\n",
      "[epoch] : 37 | [iter] : 500 | [loss] : tensor(0.9212, device='cuda:0')\n",
      "[epoch] : 38 | [iter] : 0 | [loss] : tensor(0.5866, device='cuda:0')\n",
      "[epoch] : 38 | [iter] : 100 | [loss] : tensor(0.5523, device='cuda:0')\n",
      "[epoch] : 38 | [iter] : 200 | [loss] : tensor(0.5526, device='cuda:0')\n",
      "[epoch] : 38 | [iter] : 300 | [loss] : tensor(0.4899, device='cuda:0')\n",
      "[epoch] : 38 | [iter] : 400 | [loss] : tensor(0.5548, device='cuda:0')\n",
      "[epoch] : 38 | [iter] : 500 | [loss] : tensor(0.3660, device='cuda:0')\n",
      "[epoch] : 39 | [iter] : 0 | [loss] : tensor(0.5324, device='cuda:0')\n",
      "[epoch] : 39 | [iter] : 100 | [loss] : tensor(0.7231, device='cuda:0')\n",
      "[epoch] : 39 | [iter] : 200 | [loss] : tensor(0.5539, device='cuda:0')\n",
      "[epoch] : 39 | [iter] : 300 | [loss] : tensor(0.5444, device='cuda:0')\n",
      "[epoch] : 39 | [iter] : 400 | [loss] : tensor(0.5658, device='cuda:0')\n",
      "[epoch] : 39 | [iter] : 500 | [loss] : tensor(0.5289, device='cuda:0')\n",
      "[epoch] : 40 | [iter] : 0 | [loss] : tensor(0.5037, device='cuda:0')\n",
      "[epoch] : 40 | [iter] : 100 | [loss] : tensor(0.3842, device='cuda:0')\n",
      "[epoch] : 40 | [iter] : 200 | [loss] : tensor(0.5613, device='cuda:0')\n",
      "[epoch] : 40 | [iter] : 300 | [loss] : tensor(0.5910, device='cuda:0')\n",
      "[epoch] : 40 | [iter] : 400 | [loss] : tensor(0.5231, device='cuda:0')\n",
      "[epoch] : 40 | [iter] : 500 | [loss] : tensor(0.4442, device='cuda:0')\n",
      "[epoch] : 41 | [iter] : 0 | [loss] : tensor(0.4866, device='cuda:0')\n",
      "[epoch] : 41 | [iter] : 100 | [loss] : tensor(0.5463, device='cuda:0')\n",
      "[epoch] : 41 | [iter] : 200 | [loss] : tensor(0.4401, device='cuda:0')\n",
      "[epoch] : 41 | [iter] : 300 | [loss] : tensor(0.4429, device='cuda:0')\n",
      "[epoch] : 41 | [iter] : 400 | [loss] : tensor(0.4356, device='cuda:0')\n",
      "[epoch] : 41 | [iter] : 500 | [loss] : tensor(0.4307, device='cuda:0')\n",
      "[epoch] : 42 | [iter] : 0 | [loss] : tensor(0.3994, device='cuda:0')\n",
      "[epoch] : 42 | [iter] : 100 | [loss] : tensor(0.4106, device='cuda:0')\n",
      "[epoch] : 42 | [iter] : 200 | [loss] : tensor(0.4615, device='cuda:0')\n",
      "[epoch] : 42 | [iter] : 300 | [loss] : tensor(0.4491, device='cuda:0')\n",
      "[epoch] : 42 | [iter] : 400 | [loss] : tensor(0.3968, device='cuda:0')\n",
      "[epoch] : 42 | [iter] : 500 | [loss] : tensor(0.4124, device='cuda:0')\n",
      "[epoch] : 43 | [iter] : 0 | [loss] : tensor(0.2816, device='cuda:0')\n",
      "[epoch] : 43 | [iter] : 100 | [loss] : tensor(0.4565, device='cuda:0')\n",
      "[epoch] : 43 | [iter] : 200 | [loss] : tensor(0.5332, device='cuda:0')\n",
      "[epoch] : 43 | [iter] : 300 | [loss] : tensor(0.5257, device='cuda:0')\n",
      "[epoch] : 43 | [iter] : 400 | [loss] : tensor(0.3490, device='cuda:0')\n",
      "[epoch] : 43 | [iter] : 500 | [loss] : tensor(0.5393, device='cuda:0')\n",
      "[epoch] : 44 | [iter] : 0 | [loss] : tensor(0.4658, device='cuda:0')\n",
      "[epoch] : 44 | [iter] : 100 | [loss] : tensor(0.4060, device='cuda:0')\n",
      "[epoch] : 44 | [iter] : 200 | [loss] : tensor(0.5712, device='cuda:0')\n",
      "[epoch] : 44 | [iter] : 300 | [loss] : tensor(0.3510, device='cuda:0')\n",
      "[epoch] : 44 | [iter] : 400 | [loss] : tensor(0.4390, device='cuda:0')\n",
      "[epoch] : 44 | [iter] : 500 | [loss] : tensor(0.3842, device='cuda:0')\n",
      "[epoch] : 45 | [iter] : 0 | [loss] : tensor(0.3742, device='cuda:0')\n",
      "[epoch] : 45 | [iter] : 100 | [loss] : tensor(0.4794, device='cuda:0')\n",
      "[epoch] : 45 | [iter] : 200 | [loss] : tensor(0.3520, device='cuda:0')\n",
      "[epoch] : 45 | [iter] : 300 | [loss] : tensor(0.4929, device='cuda:0')\n",
      "[epoch] : 45 | [iter] : 400 | [loss] : tensor(0.3906, device='cuda:0')\n",
      "[epoch] : 45 | [iter] : 500 | [loss] : tensor(0.4029, device='cuda:0')\n",
      "[epoch] : 46 | [iter] : 0 | [loss] : tensor(0.2658, device='cuda:0')\n",
      "[epoch] : 46 | [iter] : 100 | [loss] : tensor(0.4527, device='cuda:0')\n",
      "[epoch] : 46 | [iter] : 200 | [loss] : tensor(0.3115, device='cuda:0')\n",
      "[epoch] : 46 | [iter] : 300 | [loss] : tensor(0.3903, device='cuda:0')\n",
      "[epoch] : 46 | [iter] : 400 | [loss] : tensor(0.3222, device='cuda:0')\n",
      "[epoch] : 46 | [iter] : 500 | [loss] : tensor(0.4557, device='cuda:0')\n",
      "[epoch] : 47 | [iter] : 0 | [loss] : tensor(0.2747, device='cuda:0')\n",
      "[epoch] : 47 | [iter] : 100 | [loss] : tensor(0.3404, device='cuda:0')\n",
      "[epoch] : 47 | [iter] : 200 | [loss] : tensor(0.4143, device='cuda:0')\n",
      "[epoch] : 47 | [iter] : 300 | [loss] : tensor(0.2717, device='cuda:0')\n",
      "[epoch] : 47 | [iter] : 400 | [loss] : tensor(0.4826, device='cuda:0')\n",
      "[epoch] : 47 | [iter] : 500 | [loss] : tensor(0.3698, device='cuda:0')\n",
      "[epoch] : 48 | [iter] : 0 | [loss] : tensor(0.3457, device='cuda:0')\n",
      "[epoch] : 48 | [iter] : 100 | [loss] : tensor(0.4075, device='cuda:0')\n",
      "[epoch] : 48 | [iter] : 200 | [loss] : tensor(0.4038, device='cuda:0')\n",
      "[epoch] : 48 | [iter] : 300 | [loss] : tensor(0.3856, device='cuda:0')\n",
      "[epoch] : 48 | [iter] : 400 | [loss] : tensor(0.3562, device='cuda:0')\n",
      "[epoch] : 48 | [iter] : 500 | [loss] : tensor(0.3376, device='cuda:0')\n",
      "[epoch] : 49 | [iter] : 0 | [loss] : tensor(0.3879, device='cuda:0')\n",
      "[epoch] : 49 | [iter] : 100 | [loss] : tensor(0.4765, device='cuda:0')\n",
      "[epoch] : 49 | [iter] : 200 | [loss] : tensor(0.3662, device='cuda:0')\n",
      "[epoch] : 49 | [iter] : 300 | [loss] : tensor(0.3983, device='cuda:0')\n",
      "[epoch] : 49 | [iter] : 400 | [loss] : tensor(0.5242, device='cuda:0')\n",
      "[epoch] : 49 | [iter] : 500 | [loss] : tensor(0.4117, device='cuda:0')\n",
      "============================== End ==============================\n"
     ]
    }
   ],
   "source": [
    "print('='*30, 'Start', '='*30)\n",
    "\n",
    "for i in range(num_epoch):\n",
    "    for j,[image,label] in enumerate(train_loader):\n",
    "        # x = Variable(image)\n",
    "        # y_= Variable(label)\n",
    "        \n",
    "        # GPU사용\n",
    "        x = Variable(image).cuda()\n",
    "        y_= Variable(label).cuda()\n",
    "    \n",
    "        optimizer.zero_grad()          # 기울기 초기화\n",
    "        output = model.forward(x)      # 예측값\n",
    "        loss = loss_func(output,y_)    # 손실함수값\n",
    "        loss.backward()                # 기울기\n",
    "        optimizer.step()               # 파라미터 업데이트\n",
    "        \n",
    "        if j % 100 == 0:\n",
    "            print('[epoch] :', i, '| [iter] :', j, '| [loss] :', loss.data)\n",
    "            \n",
    "print('='*30, 'End', '='*30)"
   ]
  },
  {
   "cell_type": "markdown",
   "metadata": {
    "colab_type": "text",
    "id": "VxJmWqspYZRR"
   },
   "source": [
    "## 6. 모델 성능 평가"
   ]
  },
  {
   "cell_type": "code",
   "execution_count": 10,
   "metadata": {
    "colab": {
     "base_uri": "https://localhost:8080/",
     "height": 35
    },
    "colab_type": "code",
    "executionInfo": {
     "elapsed": 292576,
     "status": "ok",
     "timestamp": 1576332250311,
     "user": {
      "displayName": "박소현",
      "photoUrl": "",
      "userId": "04890095664734078752"
     },
     "user_tz": -540
    },
    "id": "XYIkbBcgYZRS",
    "outputId": "56188d58-e1ac-4343-a7bd-d2055ceaaea2"
   },
   "outputs": [
    {
     "name": "stdout",
     "output_type": "stream",
     "text": [
      "Accuracy of Test Data: 89.77999877929688\n"
     ]
    }
   ],
   "source": [
    "correct = 0\n",
    "total = 0\n",
    "\n",
    "for image,label in test_loader:\n",
    "\n",
    "    # x = Variable(image,volatile=True)\n",
    "    # y_= Variable(label)\n",
    "    \n",
    "    # GPU사용\n",
    "    x = Variable(image).cuda()\n",
    "    y_= Variable(label).cuda()\n",
    "    \n",
    "    output = model.forward(x)\n",
    "    _,output_index = torch.max(output,1)\n",
    "        \n",
    "    total += label.size(0)\n",
    "    correct += (output_index == y_).sum().float()\n",
    "    \n",
    "print(\"Accuracy of Test Data: {}\".format(100*correct/total))"
   ]
  }
 ],
 "metadata": {
  "accelerator": "GPU",
  "colab": {
   "collapsed_sections": [],
   "name": "Chapter 08. CNN MNIST Example.ipynb",
   "provenance": []
  },
  "kernelspec": {
   "display_name": "Python 3",
   "language": "python",
   "name": "python3"
  },
  "language_info": {
   "codemirror_mode": {
    "name": "ipython",
    "version": 3
   },
   "file_extension": ".py",
   "mimetype": "text/x-python",
   "name": "python",
   "nbconvert_exporter": "python",
   "pygments_lexer": "ipython3",
   "version": "3.7.3"
  },
  "toc": {
   "base_numbering": 1,
   "nav_menu": {},
   "number_sections": false,
   "sideBar": true,
   "skip_h1_title": false,
   "title_cell": "Table of Contents",
   "title_sidebar": "Contents",
   "toc_cell": false,
   "toc_position": {},
   "toc_section_display": true,
   "toc_window_display": false
  },
  "varInspector": {
   "cols": {
    "lenName": 16,
    "lenType": 16,
    "lenVar": 40
   },
   "kernels_config": {
    "python": {
     "delete_cmd_postfix": "",
     "delete_cmd_prefix": "del ",
     "library": "var_list.py",
     "varRefreshCmd": "print(var_dic_list())"
    },
    "r": {
     "delete_cmd_postfix": ") ",
     "delete_cmd_prefix": "rm(",
     "library": "var_list.r",
     "varRefreshCmd": "cat(var_dic_list()) "
    }
   },
   "types_to_exclude": [
    "module",
    "function",
    "builtin_function_or_method",
    "instance",
    "_Feature"
   ],
   "window_display": false
  }
 },
 "nbformat": 4,
 "nbformat_minor": 1
}
