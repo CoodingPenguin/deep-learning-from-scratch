{
 "cells": [
  {
   "cell_type": "markdown",
   "metadata": {},
   "source": [
    "# Chapter 03. Neural Network"
   ]
  },
  {
   "cell_type": "code",
   "execution_count": 2,
   "metadata": {},
   "outputs": [],
   "source": [
    "import numpy as np\n",
    "import matplotlib.pyplot as plt"
   ]
  },
  {
   "cell_type": "markdown",
   "metadata": {},
   "source": [
    "## 1. 신경망 Neural Network "
   ]
  },
  {
   "cell_type": "markdown",
   "metadata": {},
   "source": [
    "### 1.1. 퍼셉트론과 신경망"
   ]
  },
  {
   "cell_type": "markdown",
   "metadata": {},
   "source": [
    "<img src='./2_nn.JPG' width=30%>"
   ]
  },
  {
   "cell_type": "markdown",
   "metadata": {},
   "source": [
    "퍼셉트론은 복잡한 함수도 표현할 수 있지만, weight를 정하는 것을 사람이 스스로해야 한다는 단점이 있다. 하지만, 신경망은 weight를 데이터 학습을 통해서 알아서 정해준다. 신경망은 아래와 같이 맨 왼쪽에 위치한 **입력층**, 중간에 위치한 **은닉충** 그리고 맨 오른쪽에 위치한 **출력층**으로 나눌 수 있다.    \n",
    "\n",
    "이 때 입력층의 경우 weight를 갖지 않으므로 **2층 신경망**이라 볼 수 있다."
   ]
  },
  {
   "cell_type": "markdown",
   "metadata": {},
   "source": [
    "### 1.2. 활성화 함수\n",
    "활성화 함수는 입력 신호의 합(sum)을 출력 신호로 변환하는 함수를 말한다. 이 활성화 함수는 **임계값**을 경계로 출력이 바뀐다.\n",
    "* weight가 달린 입력 신호와 편향의 총합을 구한다.\n",
    "* 이 총합을 활성화 함수인 $h(x)$에 넣어 출력 신호를 구한다."
   ]
  },
  {
   "cell_type": "markdown",
   "metadata": {},
   "source": [
    "#### 1.2.1. 시그모이드 함수 vs 계단함수\n",
    "시그모이드(sigmoid) 함수 $h(x) = \\frac{1}{1+exp(-x)}$는 **S자 모양**을 한 함수를 말한다. 시그모이드 함수는 다음과 같은 특성을 가지고 있다.\n",
    "* 부드러운 곡선이고 입력에 따라 출력이 연속적으로 변화\n",
    "* 출력 신호로 0과 1사이의 실수 값을 반환    \n",
    "\n",
    "시그모이드(sigmoid) 함수와 $tanh$ 함수의 관계 : $tanh(x) = 2sigmoid(2x) - 1$"
   ]
  },
  {
   "cell_type": "code",
   "execution_count": 3,
   "metadata": {},
   "outputs": [
    {
     "data": {
      "image/png": "[encoded data removed]",
      "text/plain": [
       "<Figure size 432x288 with 1 Axes>"
      ]
     },
     "metadata": {
      "needs_background": "light"
     },
     "output_type": "display_data"
    }
   ],
   "source": [
    "def sigmoid(x):\n",
    "    return 1 / (1 + np.exp(-x))\n",
    "\n",
    "x = np.arange(-5.0, 5.0, 0.1)\n",
    "y = sigmoid(x)\n",
    "plt.plot(x, y)\n",
    "plt.ylim(-0.1, 1.1)\n",
    "plt.show()"
   ]
  },
  {
   "cell_type": "markdown",
   "metadata": {},
   "source": [
    "계단(step) 함수 $h(x) = \\begin{cases}1 & x \\geq 0\\\\0 & x < 0\\end{cases}$는 계단 모양을 한 함수를 말한다. 단순히 입력이 0을 넘으면 1을 출력하고, 그 외에는 0을 출력한다. \n",
    "* 0을 경계로 출력이 0에서 1(or 1에서 0)으로 변화\n",
    "* 0 또는 1 중 하나의 값만 반환"
   ]
  },
  {
   "cell_type": "code",
   "execution_count": 4,
   "metadata": {},
   "outputs": [
    {
     "data": {
      "image/png": "[encoded data removed]",
      "text/plain": [
       "<Figure size 432x288 with 1 Axes>"
      ]
     },
     "metadata": {
      "needs_background": "light"
     },
     "output_type": "display_data"
    }
   ],
   "source": [
    "def step_function(x):\n",
    "    return np.array(x > 0, dtype=np.int)\n",
    "\n",
    "x = np.arange(-5.0, 5.0, 0.1)\n",
    "y = step_function(x)\n",
    "plt.plot(x, y)\n",
    "plt.ylim(-0.1, 1.1)\n",
    "plt.show()"
   ]
  },
  {
   "cell_type": "markdown",
   "metadata": {},
   "source": [
    "두 함수 차이점이 있지만 **공통점**이 존재한다.\n",
    "* 입력이 작을 때 출력은 0에 가깝고, 입력이 커질 때 출력이 1에 가까워진다.\n",
    "* 입력이 중요하면 큰 값을 출력하고, 입력이 중요하지 않으면 작은 값을 출력한다."
   ]
  },
  {
   "cell_type": "markdown",
   "metadata": {},
   "source": [
    "#### 1.2.2. 비선형 함수\n",
    "**곡선** 모양의 시그모이드(sigmoid) 함수와 **계단**처럼 구부러진 직선인 계단(step) 함수는 **비선형 함수**로 분류된다. 이 비선형 함수는 신경망에서 정말 중요한다. 신경망에서 선형 함수를 쓸 경우 **신경망을 여러 층으로 구성하는 장점**을 살릴 수가 없다.    \n",
    "예를 들어, $h(x) = cx$라는 활성화 함수가 있다고 하면, 3개의 층을 쌓았을 때 출력은 $y = h(h(h(x))) = c^3x$이다. $c^3 = a$로 치환을 하면 결국에는 1개의 층을 쌓은 신경망과 똑같아진다."
   ]
  },
  {
   "cell_type": "markdown",
   "metadata": {},
   "source": [
    "#### 1.2.3. ReLU 함수\n",
    "ReLU 함수 $h(x) = \\begin{cases}x & x > 0\\\\0 & x \\leq 0\\end{cases}$는 입력이 0이 넘으면 그대로 출력하고 0 이하면 0을 출력하는 함수를 말한다. 최근에는 ReLU 함수를 신경망에서 주로 사용한다고 한다."
   ]
  },
  {
   "cell_type": "code",
   "execution_count": 5,
   "metadata": {},
   "outputs": [
    {
     "data": {
      "image/png": "[encoded data removed]",
      "text/plain": [
       "<Figure size 432x288 with 1 Axes>"
      ]
     },
     "metadata": {
      "needs_background": "light"
     },
     "output_type": "display_data"
    }
   ],
   "source": [
    "def relu(x):\n",
    "    return np.maximum(0, x)\n",
    "\n",
    "x = np.arange(-5.0, 5.0, 0.1)\n",
    "y = relu(x)\n",
    "plt.plot(x, y)\n",
    "plt.ylim(-1, 5)\n",
    "plt.show()"
   ]
  },
  {
   "cell_type": "markdown",
   "metadata": {},
   "source": [
    "### 1.3. 출력층\n",
    "출력층은 최종 출력을 할 때의 층을 말한다. 이 출력층의 활성화 함수는 **풀고자 하는 문제의 성질**에 맞추어 정해야 한다.     \n",
    "출력층의 활성화 함수는 $\\sigma(x)$로 나타낸다.\n",
    "* **회귀(regression)** : 항등 함수(identity function)\n",
    "* **2 클래스 분류(2 class classification)** : 시그모이드 함수(sigmoid function)\n",
    "* **다중 클래스 분류(multi class classification)** : 소프트맥스 함수(softmax function)"
   ]
  },
  {
   "cell_type": "markdown",
   "metadata": {},
   "source": [
    "#### 1.3.1. 항등 함수 identity function\n",
    "<img src='./identity_func.jpg' width=15%>"
   ]
  },
  {
   "cell_type": "markdown",
   "metadata": {},
   "source": [
    "항등 함수(identity function)은 입력을 그대로 출력하는 함수를 말한다."
   ]
  },
  {
   "cell_type": "code",
   "execution_count": 6,
   "metadata": {},
   "outputs": [],
   "source": [
    "def identity_function(x):\n",
    "    return x"
   ]
  },
  {
   "cell_type": "markdown",
   "metadata": {},
   "source": [
    "#### 1.3.2. 소프트맥스 함수 softmax function"
   ]
  },
  {
   "cell_type": "markdown",
   "metadata": {},
   "source": [
    "<img src='./softmax_func.jpg' width=15%>"
   ]
  },
  {
   "cell_type": "markdown",
   "metadata": {},
   "source": [
    "소프트맥스 함수(softmax function)은 $y_{k} = \\frac{exp(a_{k})}{\\sum_{i=1}^n exp(a_{i})}$이다. \n",
    "* $n$ : 출력층의 뉴런 수\n",
    "* $y_k$ : 그 중 $k$번째 출력 신호\n",
    "* $a_k$ : $k$번째 입력 신호"
   ]
  },
  {
   "cell_type": "markdown",
   "metadata": {},
   "source": [
    "소프트맥스 함수는 $e^x$ 지수함수를 사용하는데 입력값이 커질수록 출력값이 기하급수적으로 커진다. 그렇게 되면 **오버플로우 문제**가 발생하게 되는 데 이를 방지하기 위해 상수 $C$를 분모 분자에 곱해준다.     \n",
    "그러면 아래와 같이 나타낼 수 있는데 **소프트맥스 지수 함수의 지수 부분에 어떤 정수를 더하더라도 결과는 바뀌지 않는다**는 것을 알 수 있다.\n",
    "\n",
    "$$y_{k} = \\frac{exp(a_{k})}{\\sum_{i=1}^n exp(a_{i})} = \\frac{Cexp(a_{k})}{C\\sum_{i=1}^n exp(a_{i})} = \\frac{exp(a_{k}+\\log{C})}{\\sum_{i=1}^n exp(a_{i}+\\log{C})}\n",
    "= \\frac{exp(a_{k}+C')}{\\sum_{i=1}^n exp(a_{i}+C')}$$"
   ]
  },
  {
   "cell_type": "code",
   "execution_count": 7,
   "metadata": {},
   "outputs": [
    {
     "data": {
      "text/plain": [
       "array([9.99954600e-01, 4.53978686e-05, 2.06106005e-09])"
      ]
     },
     "execution_count": 7,
     "metadata": {},
     "output_type": "execute_result"
    }
   ],
   "source": [
    "def softmax(a):\n",
    "    c = np.max(a)    # 입력으로 받는 a 배열의 가장 큰 수를 상수로 지정\n",
    "    exp_a = np.exp(a - c)\n",
    "    sum_exp_a = np.sum(exp_a)\n",
    "    y = exp_a / sum_exp_a\n",
    "    \n",
    "    return y\n",
    "\n",
    "a = np.array([1010, 1000, 990])\n",
    "y = softmax(a)\n",
    "y"
   ]
  },
  {
   "cell_type": "markdown",
   "metadata": {},
   "source": [
    "소프트맥스 함수의 출력을 보면 **입력의 대소관계가 유지**되는 것을 알 수 있다. 즉, 소프트맥스 함수의 출력을 **확률**로 생각할 수 있다. 그래서 **신경망을 이용한 분류**에서 가장 큰 출력을 가진 노드를 해당 클래스로 인식하는데 대소관계가 그대로 유지되므로 **출력층의 소프트맥스 함수를 생략**하는 것이 일반적이다."
   ]
  },
  {
   "cell_type": "markdown",
   "metadata": {},
   "source": [
    "## 2. 3층 신경망 구현"
   ]
  },
  {
   "cell_type": "markdown",
   "metadata": {},
   "source": [
    "<img src='./3_nn.jpg' width=50%>"
   ]
  },
  {
   "cell_type": "markdown",
   "metadata": {},
   "source": [
    "### 2.1. 표기법\n",
    "<img src='./presentation_nn.JPG' width=40%>\n",
    "\n",
    "* $x_2$ : **입력층**의 두 번째 뉴런\n",
    "* $a_2^{(1)}$ : **1번째 은닉층**의 두 번째 뉴런\n",
    "* $w_{1 2}^{(1)}$ : **입력층(0)**의 두 번째 뉴런에서 **은닉층(1)**의 첫 번째 뉴런으로의 가중치"
   ]
  },
  {
   "cell_type": "markdown",
   "metadata": {},
   "source": [
    "### 2.2. 신호를 다음 층으로 전달하기\n",
    "모든 층은 다음과 같은 과정을 거친다. 입력에 가중치를 곱해 편행을 더한 총합을 구한다. 그리고 그 총합을 활성화 함수에 넣어 구한 출력을 구한 뒤 그것을 다음 뉴런의 입력으로 넣는다.\n",
    "\n",
    "* 입력층(0) → 은닉층(1) : $h(A^{(1)} = XW^{(1)} + B_{(1)})$\n",
    "* 은닉층(1) → 은닉층(2) : $h(A^{(2)} = XW^{(2)} + B_{(2)})$\n",
    "* 은닉층(2) → 출력층(3) : $\\sigma(A^{(3)} = XW^{(3)} + B_{(3)})$"
   ]
  },
  {
   "cell_type": "markdown",
   "metadata": {},
   "source": [
    "### 2.3. 구현"
   ]
  },
  {
   "cell_type": "code",
   "execution_count": 8,
   "metadata": {},
   "outputs": [],
   "source": [
    "# 가중치와 편향을 초기화하여 network에 저장\n",
    "def init_network():\n",
    "    network = {}\n",
    "    network['W1'] = np.array([[0.1, 0.3, 0.5], [0.2, 0.4, 0.6]])\n",
    "    network['b1'] = np.array([0.1, 0.2, 0.3])\n",
    "    network['W2'] = np.array([[0.1, 0.4], [0.2, 0.5], [0.3, 0.6]])\n",
    "    network['b2'] = np.array([0.1, 0.2])\n",
    "    network['W3'] = np.array([[0.1, 0.3], [0.2, 0.4]])\n",
    "    network['b3'] = np.array([0.1, 0.2])\n",
    "    \n",
    "    return network\n",
    "\n",
    "# 순방향으로 입력을 출력으로 변환\n",
    "def forward(network, x):    \n",
    "    W1, W2, W3 = network['W1'], network['W2'], network['W3']\n",
    "    b1, b2, b3 = network['b1'], network['b2'], network['b3']\n",
    "    \n",
    "    a1 = np.dot(x, W1) + b1\n",
    "    z1 = sigmoid(a1)\n",
    "    a2 = np.dot(z1, W2) + b2\n",
    "    z2 = sigmoid(a2)\n",
    "    a3 = np.dot(z2, W3) + b3\n",
    "    y = identity_function(a3)\n",
    "    \n",
    "    return y"
   ]
  },
  {
   "cell_type": "code",
   "execution_count": 9,
   "metadata": {},
   "outputs": [
    {
     "data": {
      "text/plain": [
       "array([0.31682708, 0.69627909])"
      ]
     },
     "execution_count": 9,
     "metadata": {},
     "output_type": "execute_result"
    }
   ],
   "source": [
    "network = init_network()\n",
    "x = np.array([1.0, 0.5])\n",
    "y = forward(network, x)\n",
    "y"
   ]
  },
  {
   "cell_type": "markdown",
   "metadata": {},
   "source": [
    "## 3. 손글씨 숫자 인식\n",
    "신경망은 두 단계를 거쳐서 문제를 해결한다.\n",
    "* **학습** : 학습 데이터를 이용해 weight를 학습\n",
    "* **추론** : 학습한 weight를 이용하여 입력 데이터를 분류"
   ]
  },
  {
   "cell_type": "markdown",
   "metadata": {},
   "source": [
    "### 3.1. MNIST 데이터셋\n",
    "0부터 9까지의 숫자 이미지로, train 이미지 60000장 그리고 test 이미지가 10000장이 준비되어 있다.\n",
    "* `28*28` 크기의 **회색조** 이미지(1채널)로, 각 픽셀값이 `0 - 255`\n",
    "* 각 이미지에 실제 의미한 숫자가 **레이블**이 붙어 있음"
   ]
  },
  {
   "cell_type": "markdown",
   "metadata": {},
   "source": [
    "### 3.2. 데이터셋 불러오기\n",
    "`load_mnist`로 데이터를 불러올 수 있다. 처음 호출 시 **인터넷에서 데이터를 로드**하고, 두 번째 호출부터는 **로컬에 저장된 `pickle` 파일을 로드**한다.\n",
    "* `normalize` : **True**면 이미지 픽셀을 **0.0 ~ 1.0** 사이의 값을 정규화, **False**면 픽셀 원래값인 **0 ~ 255**\n",
    "* `flatten` : **True**면 이미지 크기를 **784**개의 원소로 이루어진 1차원 배열로 변환, **False**면 **1×28×28**인 3차원 배열 그대로\n",
    "* `one_hot_label` : **True**면 레이블을 **원-핫 인코딩**으로 변환, **False**면 레이블 그대로"
   ]
  },
  {
   "cell_type": "code",
   "execution_count": 10,
   "metadata": {},
   "outputs": [
    {
     "name": "stdout",
     "output_type": "stream",
     "text": [
      "(60000, 784)\n",
      "(60000,)\n",
      "(10000, 784)\n",
      "(10000,)\n"
     ]
    }
   ],
   "source": [
    "import sys, os\n",
    "sys.path.append(os.pardir)\n",
    "from dataset.mnist import load_mnist\n",
    "\n",
    "# (train 이미지, train 이미지의 레이블), (test 이미지, test 이미지의 레이블)\n",
    "(x_train, t_train), (x_test, t_test) = \\\n",
    "    load_mnist(flatten=True, normalize=False)\n",
    "\n",
    "# 각 데이터의 크기 출력\n",
    "print(x_train.shape)\n",
    "print(t_train.shape)\n",
    "print(x_test.shape)\n",
    "print(t_test.shape)"
   ]
  },
  {
   "cell_type": "markdown",
   "metadata": {},
   "source": [
    "### 3.3. 이미지 출력하기\n",
    "`PIL(Python Image Libary)` 모듈을 이용해 화면에 이미지를 표시할 수 있다."
   ]
  },
  {
   "cell_type": "code",
   "execution_count": 16,
   "metadata": {},
   "outputs": [
    {
     "data": {
      "text/plain": [
       "5"
      ]
     },
     "execution_count": 16,
     "metadata": {},
     "output_type": "execute_result"
    }
   ],
   "source": [
    "from PIL import Image\n",
    "from matplotlib.pyplot import imshow\n",
    "%matplotlib inline\n",
    "\n",
    "def img_show(img):\n",
    "    pil_img = Image.fromarray(np.uint8(img))\n",
    "    # pil_img.show()\n",
    "    imshow(np.asarray(pil_img))\n",
    "    \n",
    "    \n",
    "img = x_train[0]\n",
    "label = t_train[0]\n",
    "label"
   ]
  },
  {
   "cell_type": "code",
   "execution_count": 17,
   "metadata": {},
   "outputs": [
    {
     "name": "stdout",
     "output_type": "stream",
     "text": [
      "(784,)\n",
      "(28, 28)\n"
     ]
    },
    {
     "data": {
      "image/png": "[encoded data removed]",
      "text/plain": [
       "<Figure size 432x288 with 1 Axes>"
      ]
     },
     "metadata": {
      "needs_background": "light"
     },
     "output_type": "display_data"
    }
   ],
   "source": [
    "print(img.shape)\n",
    "img = img.reshape(28, 28)\n",
    "print(img.shape)\n",
    "\n",
    "img_show(img)"
   ]
  },
  {
   "cell_type": "markdown",
   "metadata": {},
   "source": [
    "### 3.4. 레이블 추론하기\n",
    "아래와 같이 3층 신경망을 구현한다. 이 때 은닉층의 뉴런의 수는 임의로 정한 값이다.\n",
    "* 입력층(0) : 784개의 뉴런 (`28×28` px)\n",
    "* 은닉층(1) : 50개의 뉴런 \n",
    "* 은닉층(2) : 100개의 뉴런 \n",
    "* 출력층(3) : 10개의 뉴런 (`[0-9]`)"
   ]
  },
  {
   "cell_type": "code",
   "execution_count": 33,
   "metadata": {},
   "outputs": [],
   "source": [
    "import pickle\n",
    "\n",
    "# 데이터 로드를 한 뒤 train set과 test set으로 분리\n",
    "def get_data():\n",
    "    (x_train, t_train), (x_test, t_test) = load_mnist(normalize=True, flatten=True, one_hot_label=False)\n",
    "    return x_test, t_test\n",
    "\n",
    "# sample_weight.pkl에 저장된 weight와 bias를 불러옴\n",
    "def init_network():\n",
    "    with open(\"sample_weight.pkl\", 'rb') as f:\n",
    "        network = pickle.load(f)\n",
    "    \n",
    "    return network\n",
    "\n",
    "# 3층 신경망 구성\n",
    "def predict(network, x):    \n",
    "    W1, W2, W3 = network['W1'], network['W2'], network['W3']\n",
    "    b1, b2, b3 = network['b1'], network['b2'], network['b3']\n",
    "    \n",
    "    a1 = np.dot(x, W1) + b1\n",
    "    z1 = sigmoid(a1)\n",
    "    a2 = np.dot(z1, W2) + b2\n",
    "    z2 = sigmoid(a2)\n",
    "    a3 = np.dot(z2, W3) + b3\n",
    "    y = softmax(a3)\n",
    "    \n",
    "    return y"
   ]
  },
  {
   "cell_type": "code",
   "execution_count": 34,
   "metadata": {},
   "outputs": [
    {
     "name": "stdout",
     "output_type": "stream",
     "text": [
      "Accuracy : 0.9352\n"
     ]
    }
   ],
   "source": [
    "x, t = get_data()         # 데이터 로드\n",
    "network = init_network()  # weight와 bias\n",
    "\n",
    "accuracy_cnt = 0          # 정확도 계산을 위한 카운트 : 맞춘 데이터 개수\n",
    "for i in range(len(x)):\n",
    "    y = predict(network, x[i])\n",
    "    # 확률이 가장 높은 것의 인덱스 = 인식한 숫자\n",
    "    p = np.argmax(y)\n",
    "    if p == t[i]:\n",
    "        accuracy_cnt += 1\n",
    "        \n",
    "print('Accuracy :', str(float(accuracy_cnt) / len(x)))"
   ]
  },
  {
   "cell_type": "markdown",
   "metadata": {},
   "source": [
    "**전처리**는 입력 데이터에 특정 변환을 가한 것이다. 전처리를 통해서 식별 능력을 개선하고 학습 속도를 높일 수 있다. 보통 **데이터 전체의 분포**를 고려해 전처리하는 경우가 많다.\n",
    "* **정규화** : 데이터를 특정 범위로 변환하는 처리\n",
    "* **백색화** : 데이터를 균일하게 분포시킴"
   ]
  },
  {
   "cell_type": "markdown",
   "metadata": {},
   "source": [
    "### 3.5. 배치 처리\n",
    "<img src='./batch.JPG' width=50%>\n",
    "\n",
    "배치란 **하나로 묶은 입력 데이터**를 말한다. 즉, `10000`개의 `28×28`px의 이미지 데이터가 있다 할 때 `10000×784` 로 묶는 것과 같다. 출력은 **입력 데이터의 개수와 레이블 개수를 곱한 것**이다. 즉, `10000×10`이 된다.\n",
    "* `이유1` : 대부분의 라이브러리가 큰 배열을 효율적으로 처리할 수 있도록 최적화 되어 있어서\n",
    "* `이유2` : 배치 처리를 함으로써 다음 신경망으로 데이터를 넘길 때 부하를 줄일 수 있어서\n",
    "\n",
    "요약하자면 데이터 하나씩 처리하지말고 많이 묶어서 한꺼번에 처리하자는 말이다."
   ]
  },
  {
   "cell_type": "code",
   "execution_count": 35,
   "metadata": {
    "scrolled": false
   },
   "outputs": [
    {
     "name": "stdout",
     "output_type": "stream",
     "text": [
      "Accuracy : 0.9352\n"
     ]
    }
   ],
   "source": [
    "x, t = get_data()         # 데이터 로드\n",
    "network = init_network()  # weight와 bias\n",
    "\n",
    "batch_size = 100          # 100개씩 묶어서 계산\n",
    "accuracy_cnt = 0          # 정확도 계산을 위한 카운트 : 맞춘 데이터 개수\n",
    "for i in range(0, len(x), batch_size):\n",
    "    # 100 * 784\n",
    "    x_batch = x[i:i+batch_size]    # 0-99, 100-199, ...\n",
    "    # 100 * 10\n",
    "    y_batch = predict(network, x_batch)\n",
    "    \n",
    "    # 확률이 가장 높은 것의 인덱스 = 인식한 숫자\n",
    "    # 각 행(=각 데이터)의 가장 큰 확률을 가진 인덱스를 반환\n",
    "    # 100 * 1 크기의 배열이 반환\n",
    "    p = np.argmax(y_batch, axis=1) \n",
    "    accuracy_cnt += np.sum(p == t[i:i+batch_size])\n",
    "        \n",
    "print('Accuracy :', str(float(accuracy_cnt) / len(x)))"
   ]
  }
 ],
 "metadata": {
  "kernelspec": {
   "display_name": "Python 3",
   "language": "python",
   "name": "python3"
  },
  "language_info": {
   "codemirror_mode": {
    "name": "ipython",
    "version": 3
   },
   "file_extension": ".py",
   "mimetype": "text/x-python",
   "name": "python",
   "nbconvert_exporter": "python",
   "pygments_lexer": "ipython3",
   "version": "3.7.3"
  },
  "toc": {
   "base_numbering": 1,
   "nav_menu": {},
   "number_sections": false,
   "sideBar": true,
   "skip_h1_title": false,
   "title_cell": "Table of Contents",
   "title_sidebar": "Contents",
   "toc_cell": false,
   "toc_position": {
    "height": "calc(100% - 180px)",
    "left": "10px",
    "top": "150px",
    "width": "284.444px"
   },
   "toc_section_display": true,
   "toc_window_display": true
  },
  "varInspector": {
   "cols": {
    "lenName": 16,
    "lenType": 16,
    "lenVar": 40
   },
   "kernels_config": {
    "python": {
     "delete_cmd_postfix": "",
     "delete_cmd_prefix": "del ",
     "library": "var_list.py",
     "varRefreshCmd": "print(var_dic_list())"
    },
    "r": {
     "delete_cmd_postfix": ") ",
     "delete_cmd_prefix": "rm(",
     "library": "var_list.r",
     "varRefreshCmd": "cat(var_dic_list()) "
    }
   },
   "types_to_exclude": [
    "module",
    "function",
    "builtin_function_or_method",
    "instance",
    "_Feature"
   ],
   "window_display": false
  }
 },
 "nbformat": 4,
 "nbformat_minor": 2
}
