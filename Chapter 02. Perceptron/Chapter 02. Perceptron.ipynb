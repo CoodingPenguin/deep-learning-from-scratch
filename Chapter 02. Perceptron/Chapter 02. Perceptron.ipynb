{
 "cells": [
  {
   "cell_type": "markdown",
   "metadata": {},
   "source": [
    "# Chapter 02. 퍼셉트론"
   ]
  },
  {
   "cell_type": "markdown",
   "metadata": {},
   "source": [
    "## 1.1 퍼셉트론이란?\n",
    "퍼셉트론이란 **다수의 신호를 입력으로 받아 하나의 신호를 출력**하는 것\n",
    "<img src='./input2_perceptron.png' width=20%>\n",
    "* $x_1, x_2$: 입력 신호 (0 또는 1)\n",
    "* $y$: 출력 신호\n",
    "* $w_1, w_2$: 가중치(weight)\n",
    "* $\\bigcirc$: 뉴런(노드)\n",
    "* $\\theta$: 임계값(threshold)"
   ]
  },
  {
   "cell_type": "markdown",
   "metadata": {},
   "source": [
    "입력 신호 $x_1, x_2$를 받아서 각각 가중치 $w_1, w_2$를 주어 합인 $y$를 구했을 때 임계값 $\\theta$보다 크면 1을 출력하고, 작으면 0을 출력한다. 이 때, 가중치인 $w$가 클수록 합인 $y$가 커지므로 **$w$가 클수록 현재 입력신호 $x$가 중요함**을 의미한다. 이를 식으로 나타내면 다음과 같다.\n",
    "\n",
    "$$y = \\begin{cases}0 & w_1x_1+w_2x_2\\leq\\theta\\\\1 & w_1x_1+w_2x_2>\\theta\\end{cases}$$"
   ]
  },
  {
   "cell_type": "markdown",
   "metadata": {},
   "source": [
    "## 1.2 퍼셉트론 구현하기"
   ]
  },
  {
   "cell_type": "markdown",
   "metadata": {},
   "source": [
    "### 1.2.1. 편향 b \n",
    "$\\theta$를 $-b$로 치환하면, 위의 식을 다음과 같이 나타낼 수 있다. 편향을 도입했을 때를 보면, 입력 신호 $x_1, x_2$에 각각 가중치 $w_1, w_2$를 곱하고 편향 $b$를 더한 값이 $0$보다 크면 $1$이 출력되고 작으면 $0$보다 작으면 $0$이 출력된다. 즉, 기준이 더이상 $\\theta$가 아닌 $0$이 된다.     \n",
    "\n",
    "$$y = \\begin{cases}0 & b+w_1x_1+w_2x_2\\leq0\\\\1 & b+w_1x_1+w_2x_2>0\\end{cases}$$\n",
    "\n",
    "하지만, 가중치 $w_1, w_2$와 편향 $b$는 각자 가지는 의미가 다르다. 가중치 $w_1, w_2$는 **각각의 입력신호가 얼마나 중요한지**를 말하고, 편향 $b$은 **얼마나 쉽게 뉴런을 활성화 하느냐**를 말한다. 결국 임계값의 의미를 말한다."
   ]
  },
  {
   "cell_type": "markdown",
   "metadata": {},
   "source": [
    "이를 그림으로 나타내서 보면 다음과 같다. 즉, 입력 신호로 $1$이 들어와서 가중치를 $b$만큼 부여한 것과 같다.\n",
    "<img src='./input2_perceptron_bias.png' width=35%>"
   ]
  },
  {
   "cell_type": "markdown",
   "metadata": {},
   "source": [
    "### 1.2.2 퍼셉트론 구현"
   ]
  },
  {
   "cell_type": "code",
   "execution_count": 2,
   "metadata": {
    "code_folding": []
   },
   "outputs": [],
   "source": [
    "import numpy as np\n",
    "\n",
    "# AND 연산자 : 둘 다 true일때만 1을 출력\n",
    "def AND(x1, x2):\n",
    "    x = np.array([x1, x2])\n",
    "    w = np.array([0.5, 0.5])\n",
    "    b = -0.7\n",
    "    y = np.sum(w*x) + b\n",
    "    if y <= 0:\n",
    "        return 0\n",
    "    else:\n",
    "        return 1\n",
    "\n",
    "# NAND 연산자 : 둘 다 true일때만 0을 출력 \n",
    "def NAND(x1, x2):\n",
    "    x = np.array([x1, x2])\n",
    "    w = np.array([-0.5, -0.5])\n",
    "    b = 0.7\n",
    "    y = np.sum(w*x) + b\n",
    "    if y <= 0:\n",
    "        return 0\n",
    "    else:\n",
    "        return 1\n",
    "\n",
    "# OR 연산자 : 둘 다 false일때만 0을 출력\n",
    "def OR(x1, x2):\n",
    "    x = np.array([x1, x2])\n",
    "    w = np.array([0.5, 0.5])\n",
    "    b = -0.2\n",
    "    y = np.sum(w*x) + b\n",
    "    if y <= 0:\n",
    "        return 0\n",
    "    else:\n",
    "        return 1"
   ]
  },
  {
   "cell_type": "code",
   "execution_count": 4,
   "metadata": {},
   "outputs": [
    {
     "name": "stdout",
     "output_type": "stream",
     "text": [
      "(0, 0)  ->  0 1 0\n",
      "(1, 0)  ->  0 1 1\n",
      "(0, 1)  ->  0 1 1\n",
      "(1, 1)  ->  1 0 1\n"
     ]
    }
   ],
   "source": [
    "for xs in [(0, 0), (1, 0), (0, 1), (1, 1)]:\n",
    "    y1 = AND(xs[0], xs[1])\n",
    "    y2 = NAND(xs[0], xs[1])\n",
    "    y3 = OR(xs[0], xs[1])\n",
    "    print(xs, \" -> \", y1, y2, y3)"
   ]
  },
  {
   "cell_type": "markdown",
   "metadata": {},
   "source": [
    "## 1.3 퍼셉트론의 한계"
   ]
  },
  {
   "cell_type": "markdown",
   "metadata": {},
   "source": [
    "### 1.3.1 XOR 게이트\n",
    "XOR 게이트는 **배타적 논리합**이라는 논리회로로, 입력 신호 중 하나가 1일 때만 1을 출력한다. XOR 게이트의 Truth Table을 $x축$을 $x_1$, $y축$을 $x_2$로 하여 좌표평면에 나타내면 다음과 같다.\n",
    "\n",
    "<img src='./xor_points.jpg' width=25%>"
   ]
  },
  {
   "cell_type": "markdown",
   "metadata": {},
   "source": [
    "### 1.3.2. 한계\n",
    "우리가 단순히 입력신호에 가중치를 곱해 더한 것을 좌표평면으로 나타내면 하나의 **직선**이 그어진다.(이를 `선형 영역`이라 한다.) 하지만, 위의 입력신호를 0과 1로 나눌만한 직선은 존재하지 않는다. 하지만, `비선형 영역`에서 곡선으로는 나눌 수 있다.     \n",
    "즉, 퍼셉트론은 오직 **선형 영역**만 표현할 수 있다.\n",
    "\n",
    "<img src='./xor_points_nonlinear.jpg' width=25%>"
   ]
  },
  {
   "cell_type": "markdown",
   "metadata": {},
   "source": [
    "## 1.4 다층 퍼셉트론"
   ]
  },
  {
   "cell_type": "markdown",
   "metadata": {},
   "source": [
    "여러 층이 쌓인 퍼셉트론을 **다층 퍼셉트론**이라고 한다. 퍼셉트론을 여러 개를 쌓아 XOR게이트를 나타낼 수 있다. 즉, 층을 쌓은 다층 퍼셉트론에서는 **비선형적인 표현**도 가능하고, 이론상으로 **컴퓨터가 수행하는 처리도 모두 표현**할 수 있다."
   ]
  },
  {
   "cell_type": "markdown",
   "metadata": {},
   "source": [
    "### 1.4.1. 기존 게이트 조합하기\n",
    "AND, NAND, OR게이트를 조합하여 XOR게이트를 나타낼 수 있다."
   ]
  },
  {
   "cell_type": "markdown",
   "metadata": {},
   "source": [
    "<img src='./xor_gate.jpg' width=40%>"
   ]
  },
  {
   "cell_type": "markdown",
   "metadata": {},
   "source": [
    "### 1.4.2. XOR 게이트 구현하기\n",
    "<img src='./xor_perceptron.JPG' width=35%>"
   ]
  },
  {
   "cell_type": "code",
   "execution_count": 9,
   "metadata": {},
   "outputs": [
    {
     "name": "stdout",
     "output_type": "stream",
     "text": [
      "(0, 0) -> 0\n",
      "(1, 0) -> 1\n",
      "(0, 1) -> 1\n",
      "(1, 1) -> 0\n"
     ]
    }
   ],
   "source": [
    "def XOR(x1, x2):\n",
    "    s1 = NAND(x1, x2)    # NAND\n",
    "    s2 = OR(x1, x2)      # OR\n",
    "    y = AND(s1, s2)\n",
    "    return y\n",
    "\n",
    "for xs in [(0, 0), (1, 0), (0, 1), (1, 1)]:\n",
    "    y = XOR(xs[0], xs[1])\n",
    "    print(str(xs) + \" -> \" + str(y))"
   ]
  }
 ],
 "metadata": {
  "kernelspec": {
   "display_name": "Python 3",
   "language": "python",
   "name": "python3"
  },
  "language_info": {
   "codemirror_mode": {
    "name": "ipython",
    "version": 3
   },
   "file_extension": ".py",
   "mimetype": "text/x-python",
   "name": "python",
   "nbconvert_exporter": "python",
   "pygments_lexer": "ipython3",
   "version": "3.7.3"
  },
  "toc": {
   "base_numbering": 1,
   "nav_menu": {},
   "number_sections": false,
   "sideBar": true,
   "skip_h1_title": false,
   "title_cell": "Table of Contents",
   "title_sidebar": "Contents",
   "toc_cell": false,
   "toc_position": {},
   "toc_section_display": true,
   "toc_window_display": true
  },
  "varInspector": {
   "cols": {
    "lenName": 16,
    "lenType": 16,
    "lenVar": 40
   },
   "kernels_config": {
    "python": {
     "delete_cmd_postfix": "",
     "delete_cmd_prefix": "del ",
     "library": "var_list.py",
     "varRefreshCmd": "print(var_dic_list())"
    },
    "r": {
     "delete_cmd_postfix": ") ",
     "delete_cmd_prefix": "rm(",
     "library": "var_list.r",
     "varRefreshCmd": "cat(var_dic_list()) "
    }
   },
   "types_to_exclude": [
    "module",
    "function",
    "builtin_function_or_method",
    "instance",
    "_Feature"
   ],
   "window_display": false
  }
 },
 "nbformat": 4,
 "nbformat_minor": 2
}
